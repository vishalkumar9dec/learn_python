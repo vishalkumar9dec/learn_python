{
 "cells": [
  {
   "cell_type": "markdown",
   "id": "508a04b3",
   "metadata": {},
   "source": [
    "# Some common types of errors in Python"
   ]
  },
  {
   "cell_type": "markdown",
   "id": "6a8a5deb",
   "metadata": {},
   "source": [
    "# 1. Syntax error --> error in style of the language"
   ]
  },
  {
   "cell_type": "code",
   "execution_count": 2,
   "id": "40870669",
   "metadata": {},
   "outputs": [
    {
     "ename": "SyntaxError",
     "evalue": "incomplete input (1647630127.py, line 1)",
     "output_type": "error",
     "traceback": [
      "\u001b[0;36m  Cell \u001b[0;32mIn [2], line 1\u001b[0;36m\u001b[0m\n\u001b[0;31m    print(\"Hello\"\u001b[0m\n\u001b[0m                 ^\u001b[0m\n\u001b[0;31mSyntaxError\u001b[0m\u001b[0;31m:\u001b[0m incomplete input\n"
     ]
    }
   ],
   "source": [
    "print(\"Hello\""
   ]
  },
  {
   "cell_type": "code",
   "execution_count": 5,
   "id": "2bc37b8c",
   "metadata": {},
   "outputs": [
    {
     "ename": "SyntaxError",
     "evalue": "expected ':' (1278260237.py, line 1)",
     "output_type": "error",
     "traceback": [
      "\u001b[0;36m  Cell \u001b[0;32mIn [5], line 1\u001b[0;36m\u001b[0m\n\u001b[0;31m    for i in range(10)\u001b[0m\n\u001b[0m                      ^\u001b[0m\n\u001b[0;31mSyntaxError\u001b[0m\u001b[0;31m:\u001b[0m expected ':'\n"
     ]
    }
   ],
   "source": [
    "for i in range(10)\n",
    "print(i)"
   ]
  },
  {
   "cell_type": "markdown",
   "id": "b0adfb87",
   "metadata": {},
   "source": [
    "# 2. Indendation Error --> error in formatting and style of language"
   ]
  },
  {
   "cell_type": "code",
   "execution_count": 7,
   "id": "e1dfa690",
   "metadata": {},
   "outputs": [
    {
     "ename": "IndentationError",
     "evalue": "expected an indented block after 'for' statement on line 1 (3979827255.py, line 2)",
     "output_type": "error",
     "traceback": [
      "\u001b[0;36m  Cell \u001b[0;32mIn [7], line 2\u001b[0;36m\u001b[0m\n\u001b[0;31m    print(i)\u001b[0m\n\u001b[0m    ^\u001b[0m\n\u001b[0;31mIndentationError\u001b[0m\u001b[0;31m:\u001b[0m expected an indented block after 'for' statement on line 1\n"
     ]
    }
   ],
   "source": [
    "for i in range(10):\n",
    "print(i)"
   ]
  },
  {
   "cell_type": "code",
   "execution_count": 8,
   "id": "f6c15849",
   "metadata": {},
   "outputs": [
    {
     "ename": "IndentationError",
     "evalue": "expected an indented block after 'if' statement on line 1 (3482342481.py, line 2)",
     "output_type": "error",
     "traceback": [
      "\u001b[0;36m  Cell \u001b[0;32mIn [8], line 2\u001b[0;36m\u001b[0m\n\u001b[0;31m    print(tru)\u001b[0m\n\u001b[0m    ^\u001b[0m\n\u001b[0;31mIndentationError\u001b[0m\u001b[0;31m:\u001b[0m expected an indented block after 'if' statement on line 1\n"
     ]
    }
   ],
   "source": [
    "if 2 == 3:\n",
    "print(tru)"
   ]
  },
  {
   "cell_type": "markdown",
   "id": "53636d0c",
   "metadata": {},
   "source": [
    "# 3. Name Error --> Using some variable which is not defined"
   ]
  },
  {
   "cell_type": "code",
   "execution_count": 10,
   "id": "72d7bbe7",
   "metadata": {},
   "outputs": [
    {
     "ename": "NameError",
     "evalue": "name 'age' is not defined",
     "output_type": "error",
     "traceback": [
      "\u001b[0;31m---------------------------------------------------------------------------\u001b[0m",
      "\u001b[0;31mNameError\u001b[0m                                 Traceback (most recent call last)",
      "Cell \u001b[0;32mIn [10], line 1\u001b[0m\n\u001b[0;32m----> 1\u001b[0m \u001b[38;5;28mprint\u001b[39m(\u001b[43mage\u001b[49m)\n",
      "\u001b[0;31mNameError\u001b[0m: name 'age' is not defined"
     ]
    }
   ],
   "source": [
    "print(age)"
   ]
  },
  {
   "cell_type": "code",
   "execution_count": 11,
   "id": "6754127b",
   "metadata": {},
   "outputs": [
    {
     "ename": "NameError",
     "evalue": "name 'roll' is not defined",
     "output_type": "error",
     "traceback": [
      "\u001b[0;31m---------------------------------------------------------------------------\u001b[0m",
      "\u001b[0;31mNameError\u001b[0m                                 Traceback (most recent call last)",
      "Cell \u001b[0;32mIn [11], line 1\u001b[0m\n\u001b[0;32m----> 1\u001b[0m \u001b[38;5;28;01mif\u001b[39;00m \u001b[43mroll\u001b[49m \u001b[38;5;241m==\u001b[39m \u001b[38;5;241m3\u001b[39m:\n\u001b[1;32m      2\u001b[0m     \u001b[38;5;28mprint\u001b[39m(\u001b[38;5;28;01mTrue\u001b[39;00m)\n",
      "\u001b[0;31mNameError\u001b[0m: name 'roll' is not defined"
     ]
    }
   ],
   "source": [
    "if roll == 3:\n",
    "    print(True)"
   ]
  },
  {
   "cell_type": "markdown",
   "id": "66466ba4",
   "metadata": {},
   "source": [
    "# 4. Index Error -->"
   ]
  },
  {
   "cell_type": "code",
   "execution_count": 13,
   "id": "b21d32b6",
   "metadata": {},
   "outputs": [
    {
     "data": {
      "text/plain": [
       "3"
      ]
     },
     "execution_count": 13,
     "metadata": {},
     "output_type": "execute_result"
    }
   ],
   "source": [
    "roll_nums = [1,2,3,4,5]\n",
    "roll_nums[2]"
   ]
  },
  {
   "cell_type": "code",
   "execution_count": 14,
   "id": "3fcbdda4",
   "metadata": {},
   "outputs": [
    {
     "ename": "IndexError",
     "evalue": "list index out of range",
     "output_type": "error",
     "traceback": [
      "\u001b[0;31m---------------------------------------------------------------------------\u001b[0m",
      "\u001b[0;31mIndexError\u001b[0m                                Traceback (most recent call last)",
      "Cell \u001b[0;32mIn [14], line 1\u001b[0m\n\u001b[0;32m----> 1\u001b[0m \u001b[43mroll_nums\u001b[49m\u001b[43m[\u001b[49m\u001b[38;5;241;43m6\u001b[39;49m\u001b[43m]\u001b[49m\n",
      "\u001b[0;31mIndexError\u001b[0m: list index out of range"
     ]
    }
   ],
   "source": [
    "roll_nums[6]"
   ]
  },
  {
   "cell_type": "markdown",
   "id": "245c8865",
   "metadata": {},
   "source": [
    "# 5. Module not found error"
   ]
  },
  {
   "cell_type": "code",
   "execution_count": 17,
   "id": "dc96e81e",
   "metadata": {},
   "outputs": [
    {
     "ename": "ModuleNotFoundError",
     "evalue": "No module named 'oss'",
     "output_type": "error",
     "traceback": [
      "\u001b[0;31m---------------------------------------------------------------------------\u001b[0m",
      "\u001b[0;31mModuleNotFoundError\u001b[0m                       Traceback (most recent call last)",
      "Cell \u001b[0;32mIn [17], line 1\u001b[0m\n\u001b[0;32m----> 1\u001b[0m \u001b[38;5;28;01mimport\u001b[39;00m \u001b[38;5;21;01moss\u001b[39;00m\n",
      "\u001b[0;31mModuleNotFoundError\u001b[0m: No module named 'oss'"
     ]
    }
   ],
   "source": [
    "import oss"
   ]
  },
  {
   "cell_type": "markdown",
   "id": "17b220d4",
   "metadata": {},
   "source": [
    "# 6. Attribute Error"
   ]
  },
  {
   "cell_type": "code",
   "execution_count": 28,
   "id": "35436424",
   "metadata": {},
   "outputs": [],
   "source": [
    "name = 'best programming language is \"Python\"'"
   ]
  },
  {
   "cell_type": "code",
   "execution_count": 29,
   "id": "10586952",
   "metadata": {},
   "outputs": [
    {
     "name": "stdout",
     "output_type": "stream",
     "text": [
      "best programming language is \"Python\"\n"
     ]
    }
   ],
   "source": [
    "print(name)"
   ]
  },
  {
   "cell_type": "code",
   "execution_count": 30,
   "id": "d663c17f",
   "metadata": {},
   "outputs": [
    {
     "data": {
      "text/plain": [
       "'BEST PROGRAMMING LANGUAGE IS \"PYTHON\"'"
      ]
     },
     "execution_count": 30,
     "metadata": {},
     "output_type": "execute_result"
    }
   ],
   "source": [
    "name.upper()"
   ]
  },
  {
   "cell_type": "code",
   "execution_count": 31,
   "id": "baab1529",
   "metadata": {},
   "outputs": [
    {
     "data": {
      "text/plain": [
       "'Best programming language is \"python\"'"
      ]
     },
     "execution_count": 31,
     "metadata": {},
     "output_type": "execute_result"
    }
   ],
   "source": [
    "name.capitalize()"
   ]
  },
  {
   "cell_type": "code",
   "execution_count": 32,
   "id": "625bd35e",
   "metadata": {},
   "outputs": [
    {
     "ename": "AttributeError",
     "evalue": "'str' object has no attribute 'hello'",
     "output_type": "error",
     "traceback": [
      "\u001b[0;31m---------------------------------------------------------------------------\u001b[0m",
      "\u001b[0;31mAttributeError\u001b[0m                            Traceback (most recent call last)",
      "Cell \u001b[0;32mIn [32], line 1\u001b[0m\n\u001b[0;32m----> 1\u001b[0m \u001b[43mname\u001b[49m\u001b[38;5;241;43m.\u001b[39;49m\u001b[43mhello\u001b[49m()\n",
      "\u001b[0;31mAttributeError\u001b[0m: 'str' object has no attribute 'hello'"
     ]
    }
   ],
   "source": [
    "name.hello()"
   ]
  },
  {
   "cell_type": "markdown",
   "id": "8b0bee68",
   "metadata": {},
   "source": [
    "# 7. Key Error"
   ]
  },
  {
   "cell_type": "markdown",
   "id": "98c204fb",
   "metadata": {},
   "source": [
    "# 8. Type Error"
   ]
  },
  {
   "cell_type": "markdown",
   "id": "36510049",
   "metadata": {},
   "source": [
    "# 9. Import Error"
   ]
  },
  {
   "cell_type": "markdown",
   "id": "ebddd903",
   "metadata": {},
   "source": [
    "# 10. Value Error"
   ]
  },
  {
   "cell_type": "code",
   "execution_count": null,
   "id": "8370b076",
   "metadata": {},
   "outputs": [],
   "source": []
  }
 ],
 "metadata": {
  "kernelspec": {
   "display_name": "Python 3 (ipykernel)",
   "language": "python",
   "name": "python3"
  },
  "language_info": {
   "codemirror_mode": {
    "name": "ipython",
    "version": 3
   },
   "file_extension": ".py",
   "mimetype": "text/x-python",
   "name": "python",
   "nbconvert_exporter": "python",
   "pygments_lexer": "ipython3",
   "version": "3.10.5"
  }
 },
 "nbformat": 4,
 "nbformat_minor": 5
}
