{
 "cells": [
  {
   "cell_type": "markdown",
   "id": "deca7337",
   "metadata": {},
   "source": [
    "# File Handling"
   ]
  },
  {
   "cell_type": "code",
   "execution_count": 1,
   "id": "3f1084b7",
   "metadata": {},
   "outputs": [
    {
     "ename": "SyntaxError",
     "evalue": "invalid syntax (3314049025.py, line 1)",
     "output_type": "error",
     "traceback": [
      "\u001b[0;36m  Cell \u001b[0;32mIn [1], line 1\u001b[0;36m\u001b[0m\n\u001b[0;31m    \"r\" - Read - Default value. Opens a file for reading, it returns an error if the file does not exist\u001b[0m\n\u001b[0m                         ^\u001b[0m\n\u001b[0;31mSyntaxError\u001b[0m\u001b[0;31m:\u001b[0m invalid syntax\n"
     ]
    }
   ],
   "source": [
    "\"r\" - Read - Default value. Opens a file for reading, it returns an error if the file does not exist\n",
    "\"a\" - Append - Opens a file for appending, creates the file if it does not exist\n",
    "\"w\" - Write - Opens a file for writing, creates the file if it does not exist\n",
    "\"x\" - Create - Creates the specified file, returns an error if the file exists\n",
    "\"t\" - Text - Default value. Text mode\n",
    "\"b\" - Binary - Binary mode (e.g. images)"
   ]
  },
  {
   "cell_type": "code",
   "execution_count": 26,
   "id": "f8709f26",
   "metadata": {},
   "outputs": [
    {
     "name": "stdout",
     "output_type": "stream",
     "text": [
      "<_io.TextIOWrapper name='demo_file.txt' mode='r' encoding='UTF-8'>\n"
     ]
    }
   ],
   "source": [
    "f = open('demo_file.txt')\n",
    "print(f)"
   ]
  },
  {
   "cell_type": "code",
   "execution_count": 27,
   "id": "ee1ce607",
   "metadata": {},
   "outputs": [],
   "source": [
    "content = f.read(10)"
   ]
  },
  {
   "cell_type": "code",
   "execution_count": 28,
   "id": "b33baebb",
   "metadata": {},
   "outputs": [
    {
     "data": {
      "text/plain": [
       "'TXT test f'"
      ]
     },
     "execution_count": 28,
     "metadata": {},
     "output_type": "execute_result"
    }
   ],
   "source": [
    "content"
   ]
  },
  {
   "cell_type": "code",
   "execution_count": 25,
   "id": "558481d8",
   "metadata": {},
   "outputs": [
    {
     "data": {
      "text/plain": [
       "'ile\\nPurpos'"
      ]
     },
     "execution_count": 25,
     "metadata": {},
     "output_type": "execute_result"
    }
   ],
   "source": [
    "f.read(10)"
   ]
  },
  {
   "cell_type": "code",
   "execution_count": 5,
   "id": "c547ceb6",
   "metadata": {},
   "outputs": [],
   "source": [
    "f.close()"
   ]
  },
  {
   "cell_type": "code",
   "execution_count": 31,
   "id": "80d222c7",
   "metadata": {},
   "outputs": [],
   "source": [
    "f = open('demo_file.txt')\n",
    "data = f.readlines()"
   ]
  },
  {
   "cell_type": "code",
   "execution_count": 32,
   "id": "ce8370e8",
   "metadata": {},
   "outputs": [
    {
     "data": {
      "text/plain": [
       "list"
      ]
     },
     "execution_count": 32,
     "metadata": {},
     "output_type": "execute_result"
    }
   ],
   "source": [
    "type(data)"
   ]
  },
  {
   "cell_type": "code",
   "execution_count": 35,
   "id": "2743fab6",
   "metadata": {},
   "outputs": [],
   "source": [
    "f = open('demo_file.txt')\n",
    "data = f.readlines(100)"
   ]
  },
  {
   "cell_type": "code",
   "execution_count": 36,
   "id": "ddaca486",
   "metadata": {},
   "outputs": [
    {
     "data": {
      "text/plain": [
       "['TXT test file\\n',\n",
       " 'Purpose: Provide example of this file type\\n',\n",
       " 'Document file type: TXT\\n',\n",
       " 'Version: 1.0\\n',\n",
       " 'Remark:\\n']"
      ]
     },
     "execution_count": 36,
     "metadata": {},
     "output_type": "execute_result"
    }
   ],
   "source": [
    "data"
   ]
  },
  {
   "cell_type": "code",
   "execution_count": 2,
   "id": "3dafa850",
   "metadata": {},
   "outputs": [
    {
     "name": "stdout",
     "output_type": "stream",
     "text": [
      "<class 'list'>\n",
      "['TXT test file', 'Purpose: Provide example of this file type', 'Document file type: TXT', 'Version: 1.0', 'Remark:', '', 'Example content:', 'The names \"John Doe\" for males, \"Jane Doe\" or \"Jane Roe\" for females, or \"Jonnie Doe\" and \"Janie Doe\" for children, or just \"Doe\" non-gender-specifically are used as placeholder names for a party whose true identity is unknown or must be withheld in a legal action, case, or discussion. The names are also used to refer to acorpse or hospital patient whose identity is unknown. This practice is widely used in the United States and Canada, but is rarely used in other English-speaking countries including the United Kingdom itself, from where the use of \"John Doe\" in a legal context originates. The names Joe Bloggs or John Smith are used in the UK instead, as well as in Australia and New Zealand.', '', 'John Doe is sometimes used to refer to a typical male in other contexts as well, in a similar manner to John Q. Public, known in Great Britain as Joe Public, John Smith or Joe Bloggs. For example, the first name listed on a form is often John Doe, along with a fictional address or other fictional information to provide an example of how to fill in the form. The name is also used frequently in popular culture, for example in the Frank Capra film Meet John Doe. John Doe was also the name of a 2002 American television series.', '', 'Similarly, a child or baby whose identity is unknown may be referred to as Baby Doe. A notorious murder case in Kansas City, Missouri, referred to the baby victim as Precious Doe. Other unidentified female murder victims are Cali Doe and Princess Doe. Additional persons may be called James Doe, Judy Doe, etc. However, to avoid possible confusion, if two anonymous or unknown parties are cited in a specific case or action, the surnames Doe and Roe may be used simultaneously; for example, \"John Doe v. Jane Roe\". If several anonymous parties are referenced, they may simply be labelled John Doe #1, John Doe #2, etc. (the U.S. Operation Delego cited 21 (numbered) \"John Doe\"s) or labelled with other variants of Doe / Roe / Poe / etc. Other early alternatives such as John Stiles and Richard Miles are now rarely used, and Mary Major has been used in some American federal cases.', '', '', '', 'File created by https://www.online-convert.com', 'More example files: https://www.online-convert.com/file-type', 'Text of Example content: Wikipedia (https://en.wikipedia.org/wiki/John_Doe)', 'License: Attribution-ShareAlike 4.0 (https://creativecommons.org/licenses/by-sa/4.0/)', '', 'Feel free to use and share the file according to the license above.']\n"
     ]
    }
   ],
   "source": [
    "with open('demo_file.txt') as file:\n",
    "    lines = file.read().splitlines()\n",
    "    print(type(lines))\n",
    "    print(lines)"
   ]
  },
  {
   "cell_type": "code",
   "execution_count": 6,
   "id": "b3f276c0",
   "metadata": {},
   "outputs": [],
   "source": [
    "with open('demo_file.txt', 'a') as file:\n",
    "    my_text = \"\\nAdd This text at the end newline- by Vishal Kumar\"\n",
    "    file.write(my_text)"
   ]
  },
  {
   "cell_type": "code",
   "execution_count": 7,
   "id": "bda127dd",
   "metadata": {},
   "outputs": [
    {
     "name": "stdout",
     "output_type": "stream",
     "text": [
      "<class 'list'>\n",
      "['TXT test file', 'Purpose: Provide example of this file type', 'Document file type: TXT', 'Version: 1.0', 'Remark:', '', 'Example content:', 'The names \"John Doe\" for males, \"Jane Doe\" or \"Jane Roe\" for females, or \"Jonnie Doe\" and \"Janie Doe\" for children, or just \"Doe\" non-gender-specifically are used as placeholder names for a party whose true identity is unknown or must be withheld in a legal action, case, or discussion. The names are also used to refer to acorpse or hospital patient whose identity is unknown. This practice is widely used in the United States and Canada, but is rarely used in other English-speaking countries including the United Kingdom itself, from where the use of \"John Doe\" in a legal context originates. The names Joe Bloggs or John Smith are used in the UK instead, as well as in Australia and New Zealand.', '', 'John Doe is sometimes used to refer to a typical male in other contexts as well, in a similar manner to John Q. Public, known in Great Britain as Joe Public, John Smith or Joe Bloggs. For example, the first name listed on a form is often John Doe, along with a fictional address or other fictional information to provide an example of how to fill in the form. The name is also used frequently in popular culture, for example in the Frank Capra film Meet John Doe. John Doe was also the name of a 2002 American television series.', '', 'Similarly, a child or baby whose identity is unknown may be referred to as Baby Doe. A notorious murder case in Kansas City, Missouri, referred to the baby victim as Precious Doe. Other unidentified female murder victims are Cali Doe and Princess Doe. Additional persons may be called James Doe, Judy Doe, etc. However, to avoid possible confusion, if two anonymous or unknown parties are cited in a specific case or action, the surnames Doe and Roe may be used simultaneously; for example, \"John Doe v. Jane Roe\". If several anonymous parties are referenced, they may simply be labelled John Doe #1, John Doe #2, etc. (the U.S. Operation Delego cited 21 (numbered) \"John Doe\"s) or labelled with other variants of Doe / Roe / Poe / etc. Other early alternatives such as John Stiles and Richard Miles are now rarely used, and Mary Major has been used in some American federal cases.', '', '', '', 'File created by https://www.online-convert.com', 'More example files: https://www.online-convert.com/file-type', 'Text of Example content: Wikipedia (https://en.wikipedia.org/wiki/John_Doe)', 'License: Attribution-ShareAlike 4.0 (https://creativecommons.org/licenses/by-sa/4.0/)', '', 'Feel free to use and share the file according to the license above.Add This text at the end - by Vishal Kumar', 'Add This text at the end newline- by Vishal Kumar']\n"
     ]
    }
   ],
   "source": [
    "with open('demo_file.txt') as file:\n",
    "    lines = file.read().splitlines()\n",
    "    print(type(lines))\n",
    "    print(lines)"
   ]
  },
  {
   "cell_type": "code",
   "execution_count": 8,
   "id": "f087687c",
   "metadata": {},
   "outputs": [],
   "source": [
    "with open('demo_file_write.txt', 'w') as file:\n",
    "    my_text = \"This is a new file created \\n Author-Vishal Kumar\"\n",
    "    file.write(my_text)"
   ]
  },
  {
   "cell_type": "markdown",
   "id": "e29d0e17",
   "metadata": {},
   "source": [
    "# Delete a file using Python"
   ]
  },
  {
   "cell_type": "code",
   "execution_count": 10,
   "id": "3d4fae99",
   "metadata": {},
   "outputs": [
    {
     "data": {
      "text/plain": [
       "False"
      ]
     },
     "execution_count": 10,
     "metadata": {},
     "output_type": "execute_result"
    }
   ],
   "source": [
    "import os\n",
    "\n",
    "os.path.exists('demo_file_write.txt')"
   ]
  },
  {
   "cell_type": "markdown",
   "id": "856bdca8",
   "metadata": {},
   "source": [
    "# CSV Files"
   ]
  },
  {
   "cell_type": "code",
   "execution_count": 12,
   "id": "a1d4d9a5",
   "metadata": {},
   "outputs": [
    {
     "name": "stdout",
     "output_type": "stream",
     "text": [
      "<_csv.reader object at 0x112fb75a0>\n"
     ]
    }
   ],
   "source": [
    "import csv\n",
    "\n",
    "with open(\"demo_csv_file.csv\") as file:\n",
    "    csv_reader = csv.reader(file, delimiter=\",\")\n",
    "    print(csv_reader)"
   ]
  },
  {
   "cell_type": "code",
   "execution_count": 13,
   "id": "18db9020",
   "metadata": {},
   "outputs": [
    {
     "name": "stdout",
     "output_type": "stream",
     "text": [
      "<_csv.reader object at 0x112fb7610>\n",
      "['name', 'country', 'city', 'skills']\n",
      "['Asabeneh', 'Finland', 'Helsinki', 'JavaScript']\n"
     ]
    }
   ],
   "source": [
    "with open(\"demo_csv_file.csv\") as file:\n",
    "    csv_reader = csv.reader(file, delimiter=\",\")\n",
    "    print(csv_reader)\n",
    "    line_count = 0\n",
    "    for row in csv_reader:\n",
    "        print(row)"
   ]
  },
  {
   "cell_type": "code",
   "execution_count": 18,
   "id": "2c699c32",
   "metadata": {},
   "outputs": [
    {
     "name": "stdout",
     "output_type": "stream",
     "text": [
      "<_csv.reader object at 0x112fb7f40>\n",
      "Column names are ::  name, country, city, skills\n",
      "Asabeneh, Finland, Helsinki, JavaScript\n"
     ]
    }
   ],
   "source": [
    "with open(\"demo_csv_file.csv\") as file:\n",
    "    csv_reader = csv.reader(file, delimiter=\",\")\n",
    "    print(csv_reader)\n",
    "    line_count = 0\n",
    "    for row in csv_reader:\n",
    "        if line_count == 0:\n",
    "            print(\"Column names are :: \", \", \".join(row))\n",
    "        else:\n",
    "            print(\", \".join(row))\n",
    "        line_count += 1"
   ]
  },
  {
   "cell_type": "code",
   "execution_count": null,
   "id": "f5339eeb",
   "metadata": {},
   "outputs": [],
   "source": []
  },
  {
   "cell_type": "code",
   "execution_count": null,
   "id": "a3e2d941",
   "metadata": {},
   "outputs": [],
   "source": []
  }
 ],
 "metadata": {
  "kernelspec": {
   "display_name": "Python 3 (ipykernel)",
   "language": "python",
   "name": "python3"
  },
  "language_info": {
   "codemirror_mode": {
    "name": "ipython",
    "version": 3
   },
   "file_extension": ".py",
   "mimetype": "text/x-python",
   "name": "python",
   "nbconvert_exporter": "python",
   "pygments_lexer": "ipython3",
   "version": "3.10.5"
  }
 },
 "nbformat": 4,
 "nbformat_minor": 5
}
