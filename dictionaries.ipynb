{
 "cells": [
  {
   "cell_type": "code",
   "execution_count": 1,
   "id": "d1b38764",
   "metadata": {},
   "outputs": [],
   "source": [
    "# Dictionary --> it is a collection of elements in key-value pair\n",
    "\n",
    "dct = {\"key1\":\"value1\", \"key2\": \"value2\"}"
   ]
  },
  {
   "cell_type": "code",
   "execution_count": 2,
   "id": "2c9099a7",
   "metadata": {},
   "outputs": [
    {
     "data": {
      "text/plain": [
       "{'key1': 'value1', 'key2': 'value2'}"
      ]
     },
     "execution_count": 2,
     "metadata": {},
     "output_type": "execute_result"
    }
   ],
   "source": [
    "dct"
   ]
  },
  {
   "cell_type": "code",
   "execution_count": 3,
   "id": "410544c8",
   "metadata": {},
   "outputs": [
    {
     "data": {
      "text/plain": [
       "dict"
      ]
     },
     "execution_count": 3,
     "metadata": {},
     "output_type": "execute_result"
    }
   ],
   "source": [
    "type(dct)"
   ]
  },
  {
   "cell_type": "code",
   "execution_count": 4,
   "id": "dd5cbf2e",
   "metadata": {},
   "outputs": [],
   "source": [
    "# Empty Dict:\n",
    "my_empty_dict = {}"
   ]
  },
  {
   "cell_type": "code",
   "execution_count": 5,
   "id": "366f7982",
   "metadata": {},
   "outputs": [],
   "source": [
    "person = {\n",
    "    \"name\": \"James\",\n",
    "    \"age\": 37,\n",
    "    \"Country\": \"USA\",\n",
    "    \"job\": \"Software Developer\",\n",
    "    \"married\": \"Yes\"\n",
    "}"
   ]
  },
  {
   "cell_type": "code",
   "execution_count": 6,
   "id": "8be619d5",
   "metadata": {},
   "outputs": [
    {
     "data": {
      "text/plain": [
       "{'name': 'James',\n",
       " 'age': 37,\n",
       " 'Country': 'USA',\n",
       " 'job': 'Software Developer',\n",
       " 'married': 'Yes'}"
      ]
     },
     "execution_count": 6,
     "metadata": {},
     "output_type": "execute_result"
    }
   ],
   "source": [
    "person"
   ]
  },
  {
   "cell_type": "code",
   "execution_count": 7,
   "id": "7ff7ba1b",
   "metadata": {},
   "outputs": [
    {
     "data": {
      "text/plain": [
       "'Yes'"
      ]
     },
     "execution_count": 7,
     "metadata": {},
     "output_type": "execute_result"
    }
   ],
   "source": [
    "person['married']"
   ]
  },
  {
   "cell_type": "code",
   "execution_count": 8,
   "id": "bd6487f5",
   "metadata": {},
   "outputs": [
    {
     "data": {
      "text/plain": [
       "'James'"
      ]
     },
     "execution_count": 8,
     "metadata": {},
     "output_type": "execute_result"
    }
   ],
   "source": [
    "person['name']"
   ]
  },
  {
   "cell_type": "code",
   "execution_count": 9,
   "id": "e97f40dc",
   "metadata": {},
   "outputs": [],
   "source": [
    "person['spouse'] = \"Emma\""
   ]
  },
  {
   "cell_type": "code",
   "execution_count": 10,
   "id": "4c9a13b1",
   "metadata": {},
   "outputs": [
    {
     "data": {
      "text/plain": [
       "{'name': 'James',\n",
       " 'age': 37,\n",
       " 'Country': 'USA',\n",
       " 'job': 'Software Developer',\n",
       " 'married': 'Yes',\n",
       " 'spouse': 'Emma'}"
      ]
     },
     "execution_count": 10,
     "metadata": {},
     "output_type": "execute_result"
    }
   ],
   "source": [
    "person"
   ]
  },
  {
   "cell_type": "code",
   "execution_count": 11,
   "id": "1a59fb98",
   "metadata": {},
   "outputs": [
    {
     "data": {
      "text/plain": [
       "'Emma'"
      ]
     },
     "execution_count": 11,
     "metadata": {},
     "output_type": "execute_result"
    }
   ],
   "source": [
    "person['spouse']"
   ]
  },
  {
   "cell_type": "code",
   "execution_count": 14,
   "id": "4fd206c1",
   "metadata": {},
   "outputs": [
    {
     "ename": "KeyError",
     "evalue": "'children'",
     "output_type": "error",
     "traceback": [
      "\u001b[0;31m---------------------------------------------------------------------------\u001b[0m",
      "\u001b[0;31mKeyError\u001b[0m                                  Traceback (most recent call last)",
      "Cell \u001b[0;32mIn [14], line 1\u001b[0m\n\u001b[0;32m----> 1\u001b[0m \u001b[43mperson\u001b[49m\u001b[43m[\u001b[49m\u001b[38;5;124;43m'\u001b[39;49m\u001b[38;5;124;43mchildren\u001b[39;49m\u001b[38;5;124;43m'\u001b[39;49m\u001b[43m]\u001b[49m\n",
      "\u001b[0;31mKeyError\u001b[0m: 'children'"
     ]
    }
   ],
   "source": [
    "person['children']"
   ]
  },
  {
   "cell_type": "code",
   "execution_count": 15,
   "id": "e6f0374a",
   "metadata": {},
   "outputs": [],
   "source": [
    "person['skills'] = [\"Python\", \"Javascript\", \"Typescript\", \"React\", \"Cloud Computing\"]"
   ]
  },
  {
   "cell_type": "code",
   "execution_count": 16,
   "id": "d20864ba",
   "metadata": {},
   "outputs": [
    {
     "data": {
      "text/plain": [
       "{'name': 'James',\n",
       " 'age': 37,\n",
       " 'Country': 'USA',\n",
       " 'job': 'Software Developer',\n",
       " 'married': 'Yes',\n",
       " 'spouse': 'Emma',\n",
       " 'skills': ['Python', 'Javascript', 'Typescript', 'React', 'Cloud Computing']}"
      ]
     },
     "execution_count": 16,
     "metadata": {},
     "output_type": "execute_result"
    }
   ],
   "source": [
    "person"
   ]
  },
  {
   "cell_type": "code",
   "execution_count": 17,
   "id": "230ae42e",
   "metadata": {},
   "outputs": [
    {
     "data": {
      "text/plain": [
       "['Python', 'Javascript', 'Typescript', 'React', 'Cloud Computing']"
      ]
     },
     "execution_count": 17,
     "metadata": {},
     "output_type": "execute_result"
    }
   ],
   "source": [
    "person['skills']"
   ]
  },
  {
   "cell_type": "code",
   "execution_count": 18,
   "id": "700e625a",
   "metadata": {},
   "outputs": [],
   "source": [
    "## What are the valid keys datatype for a dictionary?\n",
    "## What are the valid value datatype for a dictionary?"
   ]
  },
  {
   "cell_type": "code",
   "execution_count": 19,
   "id": "c7814f86",
   "metadata": {},
   "outputs": [],
   "source": [
    "person['skills'].append('Machine Learning')"
   ]
  },
  {
   "cell_type": "code",
   "execution_count": 20,
   "id": "08ef30c4",
   "metadata": {},
   "outputs": [
    {
     "data": {
      "text/plain": [
       "{'name': 'James',\n",
       " 'age': 37,\n",
       " 'Country': 'USA',\n",
       " 'job': 'Software Developer',\n",
       " 'married': 'Yes',\n",
       " 'spouse': 'Emma',\n",
       " 'skills': ['Python',\n",
       "  'Javascript',\n",
       "  'Typescript',\n",
       "  'React',\n",
       "  'Cloud Computing',\n",
       "  'Machine Learning']}"
      ]
     },
     "execution_count": 20,
     "metadata": {},
     "output_type": "execute_result"
    }
   ],
   "source": [
    "person"
   ]
  },
  {
   "cell_type": "code",
   "execution_count": 21,
   "id": "066d730d",
   "metadata": {},
   "outputs": [
    {
     "ename": "AttributeError",
     "evalue": "'str' object has no attribute 'append'",
     "output_type": "error",
     "traceback": [
      "\u001b[0;31m---------------------------------------------------------------------------\u001b[0m",
      "\u001b[0;31mAttributeError\u001b[0m                            Traceback (most recent call last)",
      "Cell \u001b[0;32mIn [21], line 1\u001b[0m\n\u001b[0;32m----> 1\u001b[0m \u001b[43mperson\u001b[49m\u001b[43m[\u001b[49m\u001b[38;5;124;43m'\u001b[39;49m\u001b[38;5;124;43mname\u001b[39;49m\u001b[38;5;124;43m'\u001b[39;49m\u001b[43m]\u001b[49m\u001b[38;5;241;43m.\u001b[39;49m\u001b[43mappend\u001b[49m(\u001b[38;5;124m'\u001b[39m\u001b[38;5;124mBond\u001b[39m\u001b[38;5;124m'\u001b[39m)\n",
      "\u001b[0;31mAttributeError\u001b[0m: 'str' object has no attribute 'append'"
     ]
    }
   ],
   "source": [
    "person['name'].append('Bond')"
   ]
  },
  {
   "cell_type": "code",
   "execution_count": 22,
   "id": "2063d801",
   "metadata": {},
   "outputs": [],
   "source": [
    "person['name'] = \"James Bond\""
   ]
  },
  {
   "cell_type": "code",
   "execution_count": 23,
   "id": "ba8043b4",
   "metadata": {},
   "outputs": [
    {
     "data": {
      "text/plain": [
       "{'name': 'James Bond',\n",
       " 'age': 37,\n",
       " 'Country': 'USA',\n",
       " 'job': 'Software Developer',\n",
       " 'married': 'Yes',\n",
       " 'spouse': 'Emma',\n",
       " 'skills': ['Python',\n",
       "  'Javascript',\n",
       "  'Typescript',\n",
       "  'React',\n",
       "  'Cloud Computing',\n",
       "  'Machine Learning']}"
      ]
     },
     "execution_count": 23,
     "metadata": {},
     "output_type": "execute_result"
    }
   ],
   "source": [
    "person"
   ]
  },
  {
   "cell_type": "code",
   "execution_count": 24,
   "id": "17376b12",
   "metadata": {},
   "outputs": [],
   "source": [
    "person['spouse'] = \"Emma Stone\""
   ]
  },
  {
   "cell_type": "code",
   "execution_count": 25,
   "id": "b7ba5aec",
   "metadata": {},
   "outputs": [
    {
     "data": {
      "text/plain": [
       "{'name': 'James Bond',\n",
       " 'age': 37,\n",
       " 'Country': 'USA',\n",
       " 'job': 'Software Developer',\n",
       " 'married': 'Yes',\n",
       " 'spouse': 'Emma Stone',\n",
       " 'skills': ['Python',\n",
       "  'Javascript',\n",
       "  'Typescript',\n",
       "  'React',\n",
       "  'Cloud Computing',\n",
       "  'Machine Learning']}"
      ]
     },
     "execution_count": 25,
     "metadata": {},
     "output_type": "execute_result"
    }
   ],
   "source": [
    "person"
   ]
  },
  {
   "cell_type": "code",
   "execution_count": 26,
   "id": "54f1a5f7",
   "metadata": {},
   "outputs": [
    {
     "data": {
      "text/plain": [
       "'EmmaStone'"
      ]
     },
     "execution_count": 26,
     "metadata": {},
     "output_type": "execute_result"
    }
   ],
   "source": [
    "fname = \"Emma\"\n",
    "lname = \"Stone\"\n",
    "full_name = fname + lname\n",
    "full_name"
   ]
  },
  {
   "cell_type": "code",
   "execution_count": 27,
   "id": "c81c3604",
   "metadata": {},
   "outputs": [
    {
     "data": {
      "text/plain": [
       "'Emma Stone'"
      ]
     },
     "execution_count": 27,
     "metadata": {},
     "output_type": "execute_result"
    }
   ],
   "source": [
    "fname = \"Emma\"\n",
    "lname = \" Stone\"\n",
    "full_name = fname + lname\n",
    "full_name"
   ]
  },
  {
   "cell_type": "code",
   "execution_count": 28,
   "id": "de6c5e4c",
   "metadata": {},
   "outputs": [
    {
     "data": {
      "text/plain": [
       "'Emma Stone'"
      ]
     },
     "execution_count": 28,
     "metadata": {},
     "output_type": "execute_result"
    }
   ],
   "source": [
    "fname = \"Emma\"\n",
    "lname = \"Stone\"\n",
    "full_name = fname + ' ' + lname\n",
    "full_name"
   ]
  },
  {
   "cell_type": "code",
   "execution_count": 29,
   "id": "856dcb81",
   "metadata": {},
   "outputs": [
    {
     "data": {
      "text/plain": [
       "'Emma Stone'"
      ]
     },
     "execution_count": 29,
     "metadata": {},
     "output_type": "execute_result"
    }
   ],
   "source": [
    "fname = \"Emma\"\n",
    "lname = \"Stone\"\n",
    "full_name = f\"{fname} {lname}\"\n",
    "full_name"
   ]
  },
  {
   "cell_type": "code",
   "execution_count": 32,
   "id": "d896a3f2",
   "metadata": {},
   "outputs": [],
   "source": [
    "person['spouse'] = f\"{person['spouse']} Bond\""
   ]
  },
  {
   "cell_type": "code",
   "execution_count": 33,
   "id": "14b2e8f4",
   "metadata": {},
   "outputs": [
    {
     "data": {
      "text/plain": [
       "{'name': 'James Bond',\n",
       " 'age': 37,\n",
       " 'Country': 'USA',\n",
       " 'job': 'Software Developer',\n",
       " 'married': 'Yes',\n",
       " 'spouse': 'Emma Stone Bond',\n",
       " 'skills': ['Python',\n",
       "  'Javascript',\n",
       "  'Typescript',\n",
       "  'React',\n",
       "  'Cloud Computing',\n",
       "  'Machine Learning']}"
      ]
     },
     "execution_count": 33,
     "metadata": {},
     "output_type": "execute_result"
    }
   ],
   "source": [
    "person"
   ]
  },
  {
   "cell_type": "code",
   "execution_count": 34,
   "id": "4b7b78c6",
   "metadata": {},
   "outputs": [
    {
     "data": {
      "text/plain": [
       "{'name': 'James Bond',\n",
       " 'age': 37,\n",
       " 'Country': 'USA',\n",
       " 'job': 'Software Developer',\n",
       " 'married': 'Yes',\n",
       " 'spouse': 'Emma Stone',\n",
       " 'skills': ['Python',\n",
       "  'Javascript',\n",
       "  'Typescript',\n",
       "  'React',\n",
       "  'Cloud Computing',\n",
       "  'Machine Learning']}"
      ]
     },
     "execution_count": 34,
     "metadata": {},
     "output_type": "execute_result"
    }
   ],
   "source": [
    "person[\"spouse\"] = \"Emma Stone\"\n",
    "person"
   ]
  },
  {
   "cell_type": "code",
   "execution_count": 35,
   "id": "8f101b7e",
   "metadata": {},
   "outputs": [
    {
     "data": {
      "text/plain": [
       "{'name': 'James Bond',\n",
       " 'age': 37,\n",
       " 'Country': 'USA',\n",
       " 'job': 'Software Developer',\n",
       " 'married': 'Yes',\n",
       " 'spouse': 'Emma Stone Bond',\n",
       " 'skills': ['Python',\n",
       "  'Javascript',\n",
       "  'Typescript',\n",
       "  'React',\n",
       "  'Cloud Computing',\n",
       "  'Machine Learning']}"
      ]
     },
     "execution_count": 35,
     "metadata": {},
     "output_type": "execute_result"
    }
   ],
   "source": [
    "lname = \"Bond\"\n",
    "person['spouse'] = f\"{person['spouse']} {lname}\"\n",
    "person"
   ]
  },
  {
   "cell_type": "code",
   "execution_count": 37,
   "id": "04c69a95",
   "metadata": {},
   "outputs": [
    {
     "data": {
      "text/plain": [
       "{'name': 'Leo', 'age': 2, 'hobbies': ['playing', 'eating', 'sleeping']}"
      ]
     },
     "execution_count": 37,
     "metadata": {},
     "output_type": "execute_result"
    }
   ],
   "source": [
    "james_child = {\n",
    "    \"name\": \"Leo\",\n",
    "    \"age\": 2,\n",
    "    \"hobbies\": [\"playing\", \"eating\", \"sleeping\"]\n",
    "}\n",
    "james_child"
   ]
  },
  {
   "cell_type": "code",
   "execution_count": 38,
   "id": "5c69eb35",
   "metadata": {},
   "outputs": [],
   "source": [
    "person['child'] = james_child"
   ]
  },
  {
   "cell_type": "code",
   "execution_count": 39,
   "id": "3eed4507",
   "metadata": {},
   "outputs": [
    {
     "data": {
      "text/plain": [
       "{'name': 'James Bond',\n",
       " 'age': 37,\n",
       " 'Country': 'USA',\n",
       " 'job': 'Software Developer',\n",
       " 'married': 'Yes',\n",
       " 'spouse': 'Emma Stone Bond',\n",
       " 'skills': ['Python',\n",
       "  'Javascript',\n",
       "  'Typescript',\n",
       "  'React',\n",
       "  'Cloud Computing',\n",
       "  'Machine Learning'],\n",
       " 'child': {'name': 'Leo',\n",
       "  'age': 2,\n",
       "  'hobbies': ['playing', 'eating', 'sleeping']}}"
      ]
     },
     "execution_count": 39,
     "metadata": {},
     "output_type": "execute_result"
    }
   ],
   "source": [
    "person"
   ]
  },
  {
   "cell_type": "code",
   "execution_count": 40,
   "id": "bf09d037",
   "metadata": {},
   "outputs": [
    {
     "name": "stdout",
     "output_type": "stream",
     "text": [
      "{'Country': 'USA',\n",
      " 'age': 37,\n",
      " 'child': {'age': 2,\n",
      "           'hobbies': ['playing', 'eating', 'sleeping'],\n",
      "           'name': 'Leo'},\n",
      " 'job': 'Software Developer',\n",
      " 'married': 'Yes',\n",
      " 'name': 'James Bond',\n",
      " 'skills': ['Python',\n",
      "            'Javascript',\n",
      "            'Typescript',\n",
      "            'React',\n",
      "            'Cloud Computing',\n",
      "            'Machine Learning'],\n",
      " 'spouse': 'Emma Stone Bond'}\n"
     ]
    }
   ],
   "source": [
    "import pprint\n",
    "pp = pprint.PrettyPrinter(depth=4)\n",
    "pp.pprint(person)"
   ]
  },
  {
   "cell_type": "code",
   "execution_count": 41,
   "id": "dcc8841d",
   "metadata": {},
   "outputs": [
    {
     "data": {
      "text/plain": [
       "{'name': 'Leo', 'age': 2, 'hobbies': ['playing', 'eating', 'sleeping']}"
      ]
     },
     "execution_count": 41,
     "metadata": {},
     "output_type": "execute_result"
    }
   ],
   "source": [
    "person['child']"
   ]
  },
  {
   "cell_type": "code",
   "execution_count": 42,
   "id": "dd181f66",
   "metadata": {},
   "outputs": [
    {
     "data": {
      "text/plain": [
       "'Leo'"
      ]
     },
     "execution_count": 42,
     "metadata": {},
     "output_type": "execute_result"
    }
   ],
   "source": [
    "person['child']['name']"
   ]
  },
  {
   "cell_type": "code",
   "execution_count": 43,
   "id": "c056e7a1",
   "metadata": {},
   "outputs": [
    {
     "data": {
      "text/plain": [
       "2"
      ]
     },
     "execution_count": 43,
     "metadata": {},
     "output_type": "execute_result"
    }
   ],
   "source": [
    "person['child']['age']"
   ]
  },
  {
   "cell_type": "code",
   "execution_count": 45,
   "id": "6ec277f8",
   "metadata": {},
   "outputs": [
    {
     "data": {
      "text/plain": [
       "['playing', 'eating', 'sleeping']"
      ]
     },
     "execution_count": 45,
     "metadata": {},
     "output_type": "execute_result"
    }
   ],
   "source": [
    "person['child']['hobbies']"
   ]
  },
  {
   "cell_type": "code",
   "execution_count": 46,
   "id": "d3ad78ed",
   "metadata": {},
   "outputs": [
    {
     "data": {
      "text/plain": [
       "'eating'"
      ]
     },
     "execution_count": 46,
     "metadata": {},
     "output_type": "execute_result"
    }
   ],
   "source": [
    "person['child']['hobbies'][1]"
   ]
  },
  {
   "cell_type": "code",
   "execution_count": 47,
   "id": "01129c40",
   "metadata": {},
   "outputs": [
    {
     "data": {
      "text/plain": [
       "{'contact': 123556,\n",
       " 'address': 'NYC',\n",
       " 'hobbies': ['Coding', 'Reading', 'Partying']}"
      ]
     },
     "execution_count": 47,
     "metadata": {},
     "output_type": "execute_result"
    }
   ],
   "source": [
    "james_extra_info = {\n",
    "    \"contact\": 123556,\n",
    "    \"address\": \"NYC\",\n",
    "    \"hobbies\": [\"Coding\", \"Reading\", \"Partying\"]\n",
    "}\n",
    "james_extra_info"
   ]
  },
  {
   "cell_type": "code",
   "execution_count": 50,
   "id": "a421d95b",
   "metadata": {},
   "outputs": [
    {
     "data": {
      "text/plain": [
       "{'name': 'James Bond',\n",
       " 'age': 37,\n",
       " 'Country': 'USA',\n",
       " 'job': 'Software Developer',\n",
       " 'married': 'Yes',\n",
       " 'spouse': 'Emma Stone Bond',\n",
       " 'skills': ['Python',\n",
       "  'Javascript',\n",
       "  'Typescript',\n",
       "  'React',\n",
       "  'Cloud Computing',\n",
       "  'Machine Learning'],\n",
       " 'child': {'name': 'Leo',\n",
       "  'age': 2,\n",
       "  'hobbies': ['playing', 'eating', 'sleeping']},\n",
       " 'contact': 123556,\n",
       " 'address': 'NYC',\n",
       " 'hobbies': ['Coding', 'Reading', 'Partying']}"
      ]
     },
     "execution_count": 50,
     "metadata": {},
     "output_type": "execute_result"
    }
   ],
   "source": [
    "person.update(james_extra_info)\n",
    "person"
   ]
  },
  {
   "cell_type": "code",
   "execution_count": 55,
   "id": "1c50e5d2",
   "metadata": {},
   "outputs": [
    {
     "ename": "KeyError",
     "evalue": "'phone'",
     "output_type": "error",
     "traceback": [
      "\u001b[0;31m---------------------------------------------------------------------------\u001b[0m",
      "\u001b[0;31mKeyError\u001b[0m                                  Traceback (most recent call last)",
      "Cell \u001b[0;32mIn [55], line 1\u001b[0m\n\u001b[0;32m----> 1\u001b[0m \u001b[43mperson\u001b[49m\u001b[43m[\u001b[49m\u001b[38;5;124;43m'\u001b[39;49m\u001b[38;5;124;43mphone\u001b[39;49m\u001b[38;5;124;43m'\u001b[39;49m\u001b[43m]\u001b[49m\n",
      "\u001b[0;31mKeyError\u001b[0m: 'phone'"
     ]
    }
   ],
   "source": [
    "person['phone']"
   ]
  },
  {
   "cell_type": "code",
   "execution_count": 56,
   "id": "bd9d1e4e",
   "metadata": {},
   "outputs": [],
   "source": [
    "person.get('phone')"
   ]
  },
  {
   "cell_type": "code",
   "execution_count": 53,
   "id": "57c2f7a3",
   "metadata": {},
   "outputs": [
    {
     "data": {
      "text/plain": [
       "{'name': 'Leo', 'age': 2, 'hobbies': ['playing', 'eating', 'sleeping']}"
      ]
     },
     "execution_count": 53,
     "metadata": {},
     "output_type": "execute_result"
    }
   ],
   "source": [
    "person.get('child')"
   ]
  },
  {
   "cell_type": "code",
   "execution_count": 57,
   "id": "2b99e99f",
   "metadata": {},
   "outputs": [
    {
     "data": {
      "text/plain": [
       "'Key does not exist'"
      ]
     },
     "execution_count": 57,
     "metadata": {},
     "output_type": "execute_result"
    }
   ],
   "source": [
    "person.get('phone', \"Key does not exist\")"
   ]
  },
  {
   "cell_type": "code",
   "execution_count": null,
   "id": "92476721",
   "metadata": {},
   "outputs": [],
   "source": []
  }
 ],
 "metadata": {
  "kernelspec": {
   "display_name": "Python 3 (ipykernel)",
   "language": "python",
   "name": "python3"
  },
  "language_info": {
   "codemirror_mode": {
    "name": "ipython",
    "version": 3
   },
   "file_extension": ".py",
   "mimetype": "text/x-python",
   "name": "python",
   "nbconvert_exporter": "python",
   "pygments_lexer": "ipython3",
   "version": "3.10.5"
  }
 },
 "nbformat": 4,
 "nbformat_minor": 5
}
