{
 "cells": [
  {
   "cell_type": "markdown",
   "id": "1fc8188e",
   "metadata": {},
   "source": [
    "# Topics\n",
    "1. Handling functions as parameters\n",
    "2. Returning functions as return value from another function\n",
    "3. Decorators"
   ]
  },
  {
   "cell_type": "code",
   "execution_count": 1,
   "id": "c368ba4a",
   "metadata": {},
   "outputs": [],
   "source": [
    "def add_numbers(nums):\n",
    "    return sum(nums)\n",
    "\n",
    "\n",
    "def higher_add_numbers(func, lst):\n",
    "    summation = func(lst)\n",
    "    return summation"
   ]
  },
  {
   "cell_type": "code",
   "execution_count": 3,
   "id": "295d7ea3",
   "metadata": {},
   "outputs": [
    {
     "data": {
      "text/plain": [
       "9"
      ]
     },
     "execution_count": 3,
     "metadata": {},
     "output_type": "execute_result"
    }
   ],
   "source": [
    "higher_add_numbers(add_numbers, [1,2,6])"
   ]
  },
  {
   "cell_type": "code",
   "execution_count": 4,
   "id": "f680a2ef",
   "metadata": {},
   "outputs": [
    {
     "data": {
      "text/plain": [
       "9"
      ]
     },
     "execution_count": 4,
     "metadata": {},
     "output_type": "execute_result"
    }
   ],
   "source": [
    "add_numbers([1,2,6])"
   ]
  },
  {
   "cell_type": "code",
   "execution_count": 13,
   "id": "d542ee81",
   "metadata": {},
   "outputs": [],
   "source": [
    "def full_name(f, l):\n",
    "    return f\"{f} {l}\"\n",
    "\n",
    "def age(by, cy):\n",
    "    return cy - by\n",
    "\n",
    "\n",
    "def higher_func(type_func):\n",
    "    if type_func == \"full_name\":\n",
    "        return full_name\n",
    "    elif type_func == \"age\":\n",
    "        return age\n",
    "    else:\n",
    "        return \"Invalid Value\"\n",
    "    "
   ]
  },
  {
   "cell_type": "code",
   "execution_count": 14,
   "id": "1c51fb67",
   "metadata": {},
   "outputs": [
    {
     "name": "stdout",
     "output_type": "stream",
     "text": [
      "<function full_name at 0x109e30d30>\n"
     ]
    },
    {
     "data": {
      "text/plain": [
       "'Dwyane Jhonson'"
      ]
     },
     "execution_count": 14,
     "metadata": {},
     "output_type": "execute_result"
    }
   ],
   "source": [
    "my_func = higher_func(\"full_name\")\n",
    "print(my_func)\n",
    "my_func(\"Dwyane\", \"Jhonson\")"
   ]
  },
  {
   "cell_type": "code",
   "execution_count": 16,
   "id": "88f5c74f",
   "metadata": {},
   "outputs": [
    {
     "name": "stdout",
     "output_type": "stream",
     "text": [
      "<function age at 0x109244790>\n"
     ]
    },
    {
     "data": {
      "text/plain": [
       "17"
      ]
     },
     "execution_count": 16,
     "metadata": {},
     "output_type": "execute_result"
    }
   ],
   "source": [
    "my_func = higher_func(\"age\")\n",
    "print(my_func)\n",
    "my_func(1992, 2009)"
   ]
  },
  {
   "cell_type": "code",
   "execution_count": 17,
   "id": "9a32a94c",
   "metadata": {},
   "outputs": [
    {
     "ename": "TypeError",
     "evalue": "unsupported operand type(s) for -: 'str' and 'str'",
     "output_type": "error",
     "traceback": [
      "\u001b[0;31m---------------------------------------------------------------------------\u001b[0m",
      "\u001b[0;31mTypeError\u001b[0m                                 Traceback (most recent call last)",
      "Cell \u001b[0;32mIn [17], line 1\u001b[0m\n\u001b[0;32m----> 1\u001b[0m \u001b[43mmy_func\u001b[49m\u001b[43m(\u001b[49m\u001b[38;5;124;43m\"\u001b[39;49m\u001b[38;5;124;43m1992\u001b[39;49m\u001b[38;5;124;43m\"\u001b[39;49m\u001b[43m,\u001b[49m\u001b[43m \u001b[49m\u001b[38;5;124;43m\"\u001b[39;49m\u001b[38;5;124;43m2009\u001b[39;49m\u001b[38;5;124;43m\"\u001b[39;49m\u001b[43m)\u001b[49m\n",
      "Cell \u001b[0;32mIn [13], line 5\u001b[0m, in \u001b[0;36mage\u001b[0;34m(by, cy)\u001b[0m\n\u001b[1;32m      4\u001b[0m \u001b[38;5;28;01mdef\u001b[39;00m \u001b[38;5;21mage\u001b[39m(by, cy):\n\u001b[0;32m----> 5\u001b[0m     \u001b[38;5;28;01mreturn\u001b[39;00m \u001b[43mcy\u001b[49m\u001b[43m \u001b[49m\u001b[38;5;241;43m-\u001b[39;49m\u001b[43m \u001b[49m\u001b[43mby\u001b[49m\n",
      "\u001b[0;31mTypeError\u001b[0m: unsupported operand type(s) for -: 'str' and 'str'"
     ]
    }
   ],
   "source": [
    "my_func(\"1992\", \"2009\")"
   ]
  },
  {
   "cell_type": "code",
   "execution_count": 8,
   "id": "bceb8b82",
   "metadata": {},
   "outputs": [
    {
     "data": {
      "text/plain": [
       "'Invalid Value'"
      ]
     },
     "execution_count": 8,
     "metadata": {},
     "output_type": "execute_result"
    }
   ],
   "source": [
    "my_func = higher_func(\"full_me\")\n",
    "my_func"
   ]
  },
  {
   "cell_type": "markdown",
   "id": "59697e93",
   "metadata": {},
   "source": [
    "# Python Closure"
   ]
  },
  {
   "cell_type": "code",
   "execution_count": 18,
   "id": "2528f930",
   "metadata": {},
   "outputs": [],
   "source": [
    "def add_ten():\n",
    "    ten = 10 \n",
    "    def add(num):\n",
    "        return num + ten\n",
    "    return add"
   ]
  },
  {
   "cell_type": "code",
   "execution_count": 19,
   "id": "56a29b65",
   "metadata": {},
   "outputs": [
    {
     "data": {
      "text/plain": [
       "<function __main__.add_ten.<locals>.add(num)>"
      ]
     },
     "execution_count": 19,
     "metadata": {},
     "output_type": "execute_result"
    }
   ],
   "source": [
    "add_ten()"
   ]
  },
  {
   "cell_type": "code",
   "execution_count": 20,
   "id": "7f890870",
   "metadata": {},
   "outputs": [
    {
     "ename": "TypeError",
     "evalue": "add_ten() takes 0 positional arguments but 1 was given",
     "output_type": "error",
     "traceback": [
      "\u001b[0;31m---------------------------------------------------------------------------\u001b[0m",
      "\u001b[0;31mTypeError\u001b[0m                                 Traceback (most recent call last)",
      "Cell \u001b[0;32mIn [20], line 1\u001b[0m\n\u001b[0;32m----> 1\u001b[0m \u001b[43madd_ten\u001b[49m\u001b[43m(\u001b[49m\u001b[38;5;241;43m10\u001b[39;49m\u001b[43m)\u001b[49m\n",
      "\u001b[0;31mTypeError\u001b[0m: add_ten() takes 0 positional arguments but 1 was given"
     ]
    }
   ],
   "source": [
    "add_ten(10)"
   ]
  },
  {
   "cell_type": "code",
   "execution_count": 21,
   "id": "5f0dfedb",
   "metadata": {},
   "outputs": [
    {
     "data": {
      "text/plain": [
       "<function __main__.add_ten.<locals>.add(num)>"
      ]
     },
     "execution_count": 21,
     "metadata": {},
     "output_type": "execute_result"
    }
   ],
   "source": [
    "closure_func = add_ten()\n",
    "closure_func"
   ]
  },
  {
   "cell_type": "code",
   "execution_count": 22,
   "id": "c87b1875",
   "metadata": {},
   "outputs": [
    {
     "data": {
      "text/plain": [
       "15"
      ]
     },
     "execution_count": 22,
     "metadata": {},
     "output_type": "execute_result"
    }
   ],
   "source": [
    "closure_func(5)"
   ]
  },
  {
   "cell_type": "code",
   "execution_count": 23,
   "id": "d3e6565f",
   "metadata": {},
   "outputs": [
    {
     "data": {
      "text/plain": [
       "20"
      ]
     },
     "execution_count": 23,
     "metadata": {},
     "output_type": "execute_result"
    }
   ],
   "source": [
    "closure_func(10)"
   ]
  },
  {
   "cell_type": "markdown",
   "id": "88d90e13",
   "metadata": {},
   "source": [
    "# Decorators"
   ]
  },
  {
   "cell_type": "code",
   "execution_count": 29,
   "id": "cfc62c65",
   "metadata": {},
   "outputs": [],
   "source": [
    "def greeting():\n",
    "    return \"Welcome to Python\"\n",
    "\n",
    "def my_decorator(function):\n",
    "    def inner_func():\n",
    "        func = function()\n",
    "        output = func.upper()\n",
    "        return output\n",
    "    return inner_func\n",
    "        "
   ]
  },
  {
   "cell_type": "code",
   "execution_count": 30,
   "id": "2d41de9e",
   "metadata": {},
   "outputs": [
    {
     "data": {
      "text/plain": [
       "'WELCOME TO PYTHON'"
      ]
     },
     "execution_count": 30,
     "metadata": {},
     "output_type": "execute_result"
    }
   ],
   "source": [
    "g = my_decorator(greeting)\n",
    "g()"
   ]
  },
  {
   "cell_type": "code",
   "execution_count": 31,
   "id": "4a387bff",
   "metadata": {},
   "outputs": [
    {
     "data": {
      "text/plain": [
       "'WELCOME TO PYTHON'"
      ]
     },
     "execution_count": 31,
     "metadata": {},
     "output_type": "execute_result"
    }
   ],
   "source": [
    "@my_decorator\n",
    "def greeting():\n",
    "    return \"Welcome to Python\"\n",
    "\n",
    "greeting()"
   ]
  },
  {
   "cell_type": "code",
   "execution_count": 32,
   "id": "6e5d11de",
   "metadata": {},
   "outputs": [],
   "source": [
    "# Multiple decorators on a function\n",
    "# Map, Reduce, Filter"
   ]
  },
  {
   "cell_type": "code",
   "execution_count": null,
   "id": "c420097b",
   "metadata": {},
   "outputs": [],
   "source": []
  }
 ],
 "metadata": {
  "kernelspec": {
   "display_name": "Python 3 (ipykernel)",
   "language": "python",
   "name": "python3"
  },
  "language_info": {
   "codemirror_mode": {
    "name": "ipython",
    "version": 3
   },
   "file_extension": ".py",
   "mimetype": "text/x-python",
   "name": "python",
   "nbconvert_exporter": "python",
   "pygments_lexer": "ipython3",
   "version": "3.10.5"
  }
 },
 "nbformat": 4,
 "nbformat_minor": 5
}
