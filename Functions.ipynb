{
 "cells": [
  {
   "cell_type": "code",
   "execution_count": null,
   "id": "0a981d62",
   "metadata": {},
   "outputs": [],
   "source": [
    "# Function: Reusable block of code to perform a certain tasks\n",
    "\n",
    "# Syntax\n",
    "# Declaring a function\n",
    "# def function_name():\n",
    "#     code\n",
    "#     code\n",
    "    \n",
    "# calling a function\n",
    "# function_name()"
   ]
  },
  {
   "cell_type": "markdown",
   "id": "16cc9085",
   "metadata": {},
   "source": [
    "# Function without parameters\n",
    "\n",
    "# Function declaration\n",
    "\n"
   ]
  },
  {
   "cell_type": "code",
   "execution_count": 12,
   "id": "8b6bc18a",
   "metadata": {},
   "outputs": [],
   "source": [
    "def full_name():\n",
    "    f_name = \"Vishal\"\n",
    "    l_name = \"Kumar\"\n",
    "    space = ' '\n",
    "    full_name = f_name + space + l_name\n",
    "    print(\"Fullname :: \", full_name)"
   ]
  },
  {
   "cell_type": "code",
   "execution_count": 14,
   "id": "5b635ddc",
   "metadata": {},
   "outputs": [
    {
     "name": "stdout",
     "output_type": "stream",
     "text": [
      "Fullname ::  Vishal Kumar\n"
     ]
    },
    {
     "data": {
      "text/plain": [
       "NoneType"
      ]
     },
     "execution_count": 14,
     "metadata": {},
     "output_type": "execute_result"
    }
   ],
   "source": [
    "# Calling the functions\n",
    "\n",
    "type(full_name())"
   ]
  },
  {
   "cell_type": "code",
   "execution_count": 4,
   "id": "9d5e22f5",
   "metadata": {},
   "outputs": [
    {
     "name": "stdout",
     "output_type": "stream",
     "text": [
      "11\n"
     ]
    }
   ],
   "source": [
    "def add_two_numbers():\n",
    "    num1 = 5\n",
    "    num2 = 6\n",
    "    sum_of_nums = num1 + num2 \n",
    "    print(sum_of_nums)\n",
    "    \n",
    "add_two_numbers()"
   ]
  },
  {
   "cell_type": "code",
   "execution_count": 5,
   "id": "99c69d99",
   "metadata": {},
   "outputs": [],
   "source": [
    "a = 5\n",
    "b = 5\n",
    "\n",
    "num1 = num2 = 5"
   ]
  },
  {
   "cell_type": "code",
   "execution_count": 6,
   "id": "13977027",
   "metadata": {},
   "outputs": [
    {
     "name": "stdout",
     "output_type": "stream",
     "text": [
      "Fullname ::  Vishal Kumar\n"
     ]
    }
   ],
   "source": [
    "full_name()"
   ]
  },
  {
   "cell_type": "markdown",
   "id": "01c7295c",
   "metadata": {},
   "source": [
    "# Functions returning a value\n"
   ]
  },
  {
   "cell_type": "code",
   "execution_count": 19,
   "id": "b7e58eb3",
   "metadata": {},
   "outputs": [],
   "source": [
    "def full_name():\n",
    "    f_name = \"Vishal\"\n",
    "    l_name = \"Kumar\"\n",
    "    space = ' '\n",
    "    full_name = f_name + space + l_name\n",
    "    return full_name"
   ]
  },
  {
   "cell_type": "code",
   "execution_count": 20,
   "id": "da11ccd4",
   "metadata": {},
   "outputs": [
    {
     "data": {
      "text/plain": [
       "'Vishal Kumar'"
      ]
     },
     "execution_count": 20,
     "metadata": {},
     "output_type": "execute_result"
    }
   ],
   "source": [
    "full_name()"
   ]
  },
  {
   "cell_type": "code",
   "execution_count": 24,
   "id": "2631da7a",
   "metadata": {},
   "outputs": [
    {
     "name": "stdout",
     "output_type": "stream",
     "text": [
      "Full name : Vishal Kumar\n"
     ]
    }
   ],
   "source": [
    "full_name_of_student = full_name()\n",
    "print(f\"Full name : {full_name_of_student}\")"
   ]
  },
  {
   "cell_type": "code",
   "execution_count": 26,
   "id": "832092f9",
   "metadata": {},
   "outputs": [
    {
     "name": "stdout",
     "output_type": "stream",
     "text": [
      "sum of numbers : 15\n"
     ]
    }
   ],
   "source": [
    "def add_numbers():\n",
    "    num1 = 7\n",
    "    num2 = 8\n",
    "    return num1 + num2\n",
    "\n",
    "print(f\"sum of numbers : {add_numbers()}\")"
   ]
  },
  {
   "cell_type": "markdown",
   "id": "fa7cb71f",
   "metadata": {},
   "source": [
    "# Functions with parameters"
   ]
  },
  {
   "cell_type": "code",
   "execution_count": 28,
   "id": "fa9c2aeb",
   "metadata": {},
   "outputs": [],
   "source": [
    "# syntax\n",
    "# Declaring a function\n",
    "# def function_name(parameter):\n",
    "#     codes\n",
    "#     codes\n",
    "# Calling function\n",
    "# print(function_name(argument))"
   ]
  },
  {
   "cell_type": "code",
   "execution_count": 30,
   "id": "7ff19927",
   "metadata": {},
   "outputs": [
    {
     "data": {
      "text/plain": [
       "'Hello Alex'"
      ]
     },
     "execution_count": 30,
     "metadata": {},
     "output_type": "execute_result"
    }
   ],
   "source": [
    "def greetings(name):\n",
    "    message = f\"Hello {name}\"\n",
    "    return message\n",
    "\n",
    "greetings(\"Alex\")"
   ]
  },
  {
   "cell_type": "code",
   "execution_count": 31,
   "id": "008f51f7",
   "metadata": {},
   "outputs": [
    {
     "data": {
      "text/plain": [
       "30"
      ]
     },
     "execution_count": 31,
     "metadata": {},
     "output_type": "execute_result"
    }
   ],
   "source": [
    "def add_20(num):\n",
    "    return num + 20\n",
    "\n",
    "add_20(10)"
   ]
  },
  {
   "cell_type": "code",
   "execution_count": 33,
   "id": "06e569d5",
   "metadata": {},
   "outputs": [
    {
     "data": {
      "text/plain": [
       "314.0"
      ]
     },
     "execution_count": 33,
     "metadata": {},
     "output_type": "execute_result"
    }
   ],
   "source": [
    "def area_of_circle(r):\n",
    "    PI = 3.14\n",
    "    area = PI * r ** 2\n",
    "    return area\n",
    "\n",
    "area_of_circle(10)"
   ]
  },
  {
   "cell_type": "code",
   "execution_count": 34,
   "id": "0b44b6f0",
   "metadata": {},
   "outputs": [
    {
     "data": {
      "text/plain": [
       "'Fullname :: Leo cap'"
      ]
     },
     "execution_count": 34,
     "metadata": {},
     "output_type": "execute_result"
    }
   ],
   "source": [
    "def get_full_name(f_name, l_name):\n",
    "    return f\"Fullname :: {f_name} {l_name}\"\n",
    "\n",
    "get_full_name(\"Leo\", \"cap\")"
   ]
  },
  {
   "cell_type": "code",
   "execution_count": 35,
   "id": "37243e1d",
   "metadata": {},
   "outputs": [
    {
     "data": {
      "text/plain": [
       "30"
      ]
     },
     "execution_count": 35,
     "metadata": {},
     "output_type": "execute_result"
    }
   ],
   "source": [
    "def get_age(birth_year, current_year):\n",
    "    return current_year - birth_year\n",
    "\n",
    "get_age(1992, 2022)"
   ]
  },
  {
   "cell_type": "code",
   "execution_count": 39,
   "id": "51740707",
   "metadata": {},
   "outputs": [
    {
     "data": {
      "text/plain": [
       "-30"
      ]
     },
     "execution_count": 39,
     "metadata": {},
     "output_type": "execute_result"
    }
   ],
   "source": [
    "get_age(2022,1992)"
   ]
  },
  {
   "cell_type": "code",
   "execution_count": 41,
   "id": "98d0b1d2",
   "metadata": {},
   "outputs": [
    {
     "data": {
      "text/plain": [
       "30"
      ]
     },
     "execution_count": 41,
     "metadata": {},
     "output_type": "execute_result"
    }
   ],
   "source": [
    "get_age(current_year=2022, birth_year=1992) # The order of arguments does not matter when passing in key value pair"
   ]
  },
  {
   "cell_type": "code",
   "execution_count": 40,
   "id": "b6869965",
   "metadata": {},
   "outputs": [
    {
     "data": {
      "text/plain": [
       "'Fullname :: Will smith'"
      ]
     },
     "execution_count": 40,
     "metadata": {},
     "output_type": "execute_result"
    }
   ],
   "source": [
    "get_full_name(f_name=\"Will\", l_name=\"smith\")"
   ]
  },
  {
   "cell_type": "code",
   "execution_count": 42,
   "id": "3454db0c",
   "metadata": {},
   "outputs": [
    {
     "data": {
      "text/plain": [
       "False"
      ]
     },
     "execution_count": 42,
     "metadata": {},
     "output_type": "execute_result"
    }
   ],
   "source": [
    "def check_num_even(num):\n",
    "    if num % 2 == 0:\n",
    "        return True\n",
    "    return False\n",
    "\n",
    "check_num_even(5)"
   ]
  },
  {
   "cell_type": "code",
   "execution_count": 45,
   "id": "b2a8bbe1",
   "metadata": {},
   "outputs": [
    {
     "name": "stdout",
     "output_type": "stream",
     "text": [
      "the number is odd\n"
     ]
    }
   ],
   "source": [
    "if check_num_even(7):\n",
    "    print(\"the number is even\")\n",
    "else:\n",
    "    print(\"the number is odd\")"
   ]
  },
  {
   "cell_type": "code",
   "execution_count": 46,
   "id": "a71c9116",
   "metadata": {},
   "outputs": [],
   "source": [
    "def get_age(birth_year, current_year=2022):\n",
    "    return current_year - birth_year"
   ]
  },
  {
   "cell_type": "code",
   "execution_count": 47,
   "id": "36b47c56",
   "metadata": {},
   "outputs": [
    {
     "data": {
      "text/plain": [
       "27"
      ]
     },
     "execution_count": 47,
     "metadata": {},
     "output_type": "execute_result"
    }
   ],
   "source": [
    "get_age(1995)"
   ]
  },
  {
   "cell_type": "code",
   "execution_count": 48,
   "id": "98ff678b",
   "metadata": {},
   "outputs": [
    {
     "data": {
      "text/plain": [
       "5"
      ]
     },
     "execution_count": 48,
     "metadata": {},
     "output_type": "execute_result"
    }
   ],
   "source": [
    "get_age(1995, 2000)"
   ]
  },
  {
   "cell_type": "markdown",
   "id": "cafd1a09",
   "metadata": {},
   "source": [
    "# Arbitrary number of arguments\n",
    "*args, **kwargs"
   ]
  },
  {
   "cell_type": "code",
   "execution_count": 57,
   "id": "8ac4ff7e",
   "metadata": {},
   "outputs": [
    {
     "name": "stdout",
     "output_type": "stream",
     "text": [
      "Student 1 :  Alex\n",
      "Student 2 :  Kate\n",
      "Student 3 :  Leo\n"
     ]
    }
   ],
   "source": [
    "# Find the sum of all the parameters being passed in method\n",
    "\n",
    "# def print_student_names(*args):\n",
    "# #     print(args)\n",
    "#     for student in args:\n",
    "#         print(\"Name : \", student)\n",
    "    \n",
    "# print_student_names(\"Alex\", \"Kate\", \"Leo\")\n",
    "\n",
    "\n",
    "def print_student_names(*args):\n",
    "#     print(args)\n",
    "    for i in range(len(args)):\n",
    "        print(f\"Student {i+1} : \", args[i])\n",
    "    \n",
    "print_student_names(\"Alex\", \"Kate\", \"Leo\")\n",
    "\n",
    "\n",
    "def calc_sum(*args):\n",
    "    sum_of_args = 0\n",
    "    for arg in args:\n",
    "        sum_of_args += arg\n",
    "    return sum_of_args\n",
    "\n",
    "# calc_sum(1,2,4,2)"
   ]
  },
  {
   "cell_type": "code",
   "execution_count": 58,
   "id": "0e1ac6f4",
   "metadata": {},
   "outputs": [
    {
     "data": {
      "text/plain": [
       "'Vishal kumar'"
      ]
     },
     "execution_count": 58,
     "metadata": {},
     "output_type": "execute_result"
    }
   ],
   "source": [
    "def print_full_name(**kwargs):\n",
    "    fullname = kwargs.get(\"f_name\") + \" \" + kwargs.get(\"l_name\")\n",
    "    return fullname\n",
    "\n",
    "print_full_name(f_name=\"Vishal\", l_name=\"kumar\")"
   ]
  },
  {
   "cell_type": "code",
   "execution_count": 61,
   "id": "a6add637",
   "metadata": {},
   "outputs": [],
   "source": [
    "# Q1 -> Print the full name of students from a data structure containing students info\n",
    "\n",
    "students = [\n",
    "    {\n",
    "        \"f_name\": \"alex\",\n",
    "        \"l_name\": \"hill\",\n",
    "        \"roll_num\": 45,\n",
    "        \"grade\": \"A\"\n",
    "    },\n",
    "    {\n",
    "        \"f_name\": \"Kate\",\n",
    "        \"l_name\": \"Winslet\",\n",
    "        \"roll_num\": 46,\n",
    "        \"grade\": \"B\"\n",
    "    },\n",
    "    {\n",
    "        \"f_name\": \"Leo\",\n",
    "        \"l_name\": \"Cap\",\n",
    "        \"roll_num\": 47,\n",
    "        \"grade\": \"B\"\n",
    "    }\n",
    "]"
   ]
  },
  {
   "cell_type": "code",
   "execution_count": 62,
   "id": "70940ad1",
   "metadata": {},
   "outputs": [
    {
     "data": {
      "text/plain": [
       "3"
      ]
     },
     "execution_count": 62,
     "metadata": {},
     "output_type": "execute_result"
    }
   ],
   "source": [
    "len(students)"
   ]
  },
  {
   "cell_type": "code",
   "execution_count": 63,
   "id": "fd4e21f5",
   "metadata": {},
   "outputs": [
    {
     "name": "stdout",
     "output_type": "stream",
     "text": [
      "alex hill\n",
      "Kate Winslet\n",
      "Leo Cap\n"
     ]
    }
   ],
   "source": [
    "for student in students:\n",
    "    print(f'{student[\"f_name\"]} {student[\"l_name\"]}')"
   ]
  },
  {
   "cell_type": "code",
   "execution_count": 64,
   "id": "e4c53731",
   "metadata": {},
   "outputs": [],
   "source": [
    "def student_full_name(f_name, l_name):\n",
    "    return f'{student[\"f_name\"]} {student[\"l_name\"]}'"
   ]
  },
  {
   "cell_type": "code",
   "execution_count": 66,
   "id": "c40fe576",
   "metadata": {},
   "outputs": [
    {
     "name": "stdout",
     "output_type": "stream",
     "text": [
      "alex hill\n",
      "Kate Winslet\n",
      "Leo Cap\n"
     ]
    }
   ],
   "source": [
    "for student in students:\n",
    "    print(student_full_name(student[\"f_name\"], student[\"l_name\"]))"
   ]
  },
  {
   "cell_type": "code",
   "execution_count": null,
   "id": "20f7cb2e",
   "metadata": {},
   "outputs": [],
   "source": []
  }
 ],
 "metadata": {
  "kernelspec": {
   "display_name": "Python 3 (ipykernel)",
   "language": "python",
   "name": "python3"
  },
  "language_info": {
   "codemirror_mode": {
    "name": "ipython",
    "version": 3
   },
   "file_extension": ".py",
   "mimetype": "text/x-python",
   "name": "python",
   "nbconvert_exporter": "python",
   "pygments_lexer": "ipython3",
   "version": "3.10.5"
  }
 },
 "nbformat": 4,
 "nbformat_minor": 5
}
