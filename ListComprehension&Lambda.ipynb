{
 "cells": [
  {
   "cell_type": "code",
   "execution_count": 1,
   "id": "0d2c96e9",
   "metadata": {},
   "outputs": [
    {
     "name": "stdout",
     "output_type": "stream",
     "text": [
      "0\n",
      "2\n",
      "4\n",
      "6\n",
      "8\n"
     ]
    }
   ],
   "source": [
    "for i in range(10):\n",
    "    if i % 2 == 0:\n",
    "        print(i)"
   ]
  },
  {
   "cell_type": "code",
   "execution_count": 2,
   "id": "016e0027",
   "metadata": {},
   "outputs": [],
   "source": [
    "even_numbers = []\n",
    "for i in range(10):\n",
    "    if i % 2 == 0:\n",
    "        even_numbers.append(i)"
   ]
  },
  {
   "cell_type": "code",
   "execution_count": 3,
   "id": "a8e61c03",
   "metadata": {},
   "outputs": [
    {
     "data": {
      "text/plain": [
       "[0, 2, 4, 6, 8]"
      ]
     },
     "execution_count": 3,
     "metadata": {},
     "output_type": "execute_result"
    }
   ],
   "source": [
    "even_numbers"
   ]
  },
  {
   "cell_type": "code",
   "execution_count": 4,
   "id": "9867a0e9",
   "metadata": {},
   "outputs": [
    {
     "data": {
      "text/plain": [
       "[0, 2, 4, 6, 8]"
      ]
     },
     "execution_count": 4,
     "metadata": {},
     "output_type": "execute_result"
    }
   ],
   "source": [
    "even_num = [ i for i in range(10) if i % 2 == 0]\n",
    "even_num"
   ]
  },
  {
   "cell_type": "code",
   "execution_count": 5,
   "id": "b74f2d3f",
   "metadata": {},
   "outputs": [
    {
     "data": {
      "text/plain": [
       "str"
      ]
     },
     "execution_count": 5,
     "metadata": {},
     "output_type": "execute_result"
    }
   ],
   "source": [
    "name = \"Kate Winslet\"\n",
    "type(name)"
   ]
  },
  {
   "cell_type": "code",
   "execution_count": 6,
   "id": "1d548ef8",
   "metadata": {},
   "outputs": [
    {
     "data": {
      "text/plain": [
       "['K', 'a', 't', 'e', ' ', 'W', 'i', 'n', 's', 'l', 'e', 't']"
      ]
     },
     "execution_count": 6,
     "metadata": {},
     "output_type": "execute_result"
    }
   ],
   "source": [
    "list_name = list(name)\n",
    "list_name"
   ]
  },
  {
   "cell_type": "code",
   "execution_count": 7,
   "id": "990392ad",
   "metadata": {},
   "outputs": [],
   "source": [
    "# WAP to find the square of numbers from 0 to 10 and add in the list"
   ]
  },
  {
   "cell_type": "code",
   "execution_count": 8,
   "id": "60a405d9",
   "metadata": {},
   "outputs": [
    {
     "data": {
      "text/plain": [
       "[0, 1, 4, 9, 16, 25, 36, 49, 64, 81]"
      ]
     },
     "execution_count": 8,
     "metadata": {},
     "output_type": "execute_result"
    }
   ],
   "source": [
    "square = []\n",
    "for i in range(10):\n",
    "    square.append(i*i)\n",
    "    \n",
    "square"
   ]
  },
  {
   "cell_type": "code",
   "execution_count": 9,
   "id": "8cc608af",
   "metadata": {},
   "outputs": [
    {
     "data": {
      "text/plain": [
       "[0, 1, 4, 9, 16, 25, 36, 49, 64, 81]"
      ]
     },
     "execution_count": 9,
     "metadata": {},
     "output_type": "execute_result"
    }
   ],
   "source": [
    "square_nums = [ i * i for i in range(10)]\n",
    "square_nums"
   ]
  },
  {
   "cell_type": "markdown",
   "id": "a00abc27",
   "metadata": {},
   "source": [
    "# Lambda function\n",
    "A small anonymous function without a name. It can take any number of arguments but can have only one expression.\n",
    "\n",
    "Syntax:\n",
    "x = lambda param1, param2: param1 + param2\n",
    "print((x(arg1, arg2))"
   ]
  },
  {
   "cell_type": "code",
   "execution_count": 10,
   "id": "83c4f7dd",
   "metadata": {},
   "outputs": [],
   "source": [
    "def add_2_nums(num1, num2):\n",
    "    return num1 + num2"
   ]
  },
  {
   "cell_type": "code",
   "execution_count": 11,
   "id": "577dec94",
   "metadata": {},
   "outputs": [
    {
     "data": {
      "text/plain": [
       "12"
      ]
     },
     "execution_count": 11,
     "metadata": {},
     "output_type": "execute_result"
    }
   ],
   "source": [
    "add_2_nums(5, 7)"
   ]
  },
  {
   "cell_type": "code",
   "execution_count": 12,
   "id": "d5fcf610",
   "metadata": {},
   "outputs": [],
   "source": [
    "x = lambda num1, num2: num1 + num2"
   ]
  },
  {
   "cell_type": "code",
   "execution_count": 13,
   "id": "24cc42c5",
   "metadata": {},
   "outputs": [
    {
     "data": {
      "text/plain": [
       "5"
      ]
     },
     "execution_count": 13,
     "metadata": {},
     "output_type": "execute_result"
    }
   ],
   "source": [
    "x(2,3)"
   ]
  },
  {
   "cell_type": "code",
   "execution_count": 14,
   "id": "0eebb0c5",
   "metadata": {},
   "outputs": [],
   "source": [
    "def full_name(f_name, l_name):\n",
    "    return f\"{f_name} {l_name}\""
   ]
  },
  {
   "cell_type": "code",
   "execution_count": 15,
   "id": "9f37e8b9",
   "metadata": {},
   "outputs": [
    {
     "data": {
      "text/plain": [
       "'Will Ferrel'"
      ]
     },
     "execution_count": 15,
     "metadata": {},
     "output_type": "execute_result"
    }
   ],
   "source": [
    "full_name(\"Will\", \"Ferrel\")"
   ]
  },
  {
   "cell_type": "code",
   "execution_count": 16,
   "id": "b0392937",
   "metadata": {},
   "outputs": [],
   "source": [
    "fn = lambda f_name, l_name: f\"{f_name} {l_name}\""
   ]
  },
  {
   "cell_type": "code",
   "execution_count": 17,
   "id": "619ec291",
   "metadata": {},
   "outputs": [
    {
     "data": {
      "text/plain": [
       "'Mark Whalberg'"
      ]
     },
     "execution_count": 17,
     "metadata": {},
     "output_type": "execute_result"
    }
   ],
   "source": [
    "fn(\"Mark\", \"Whalberg\")"
   ]
  },
  {
   "cell_type": "code",
   "execution_count": 18,
   "id": "36daa893",
   "metadata": {},
   "outputs": [
    {
     "data": {
      "text/plain": [
       "[-4, -3, -2, -1, 0]"
      ]
     },
     "execution_count": 18,
     "metadata": {},
     "output_type": "execute_result"
    }
   ],
   "source": [
    "# Filter only negative and zero in the list using list comprehension\n",
    "numbers = [-4, -3, -2, -1, 0, 2, 4, 6]\n",
    "\n",
    "negative_numbers = [ i for i in numbers if i <= 0 ]\n",
    "negative_numbers"
   ]
  },
  {
   "cell_type": "code",
   "execution_count": null,
   "id": "c5396e04",
   "metadata": {},
   "outputs": [],
   "source": [
    "# Nested For Loop\n",
    "# Nested for loop using list comprehension"
   ]
  }
 ],
 "metadata": {
  "kernelspec": {
   "display_name": "Python 3 (ipykernel)",
   "language": "python",
   "name": "python3"
  },
  "language_info": {
   "codemirror_mode": {
    "name": "ipython",
    "version": 3
   },
   "file_extension": ".py",
   "mimetype": "text/x-python",
   "name": "python",
   "nbconvert_exporter": "python",
   "pygments_lexer": "ipython3",
   "version": "3.10.5"
  }
 },
 "nbformat": 4,
 "nbformat_minor": 5
}
