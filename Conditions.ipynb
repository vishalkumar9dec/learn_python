{
 "cells": [
  {
   "cell_type": "code",
   "execution_count": null,
   "id": "7567f9cb",
   "metadata": {},
   "outputs": [],
   "source": [
    "# Every statement is executed as True or False"
   ]
  },
  {
   "cell_type": "code",
   "execution_count": 2,
   "id": "6bea5172",
   "metadata": {},
   "outputs": [],
   "source": [
    "a = 5"
   ]
  },
  {
   "cell_type": "code",
   "execution_count": 4,
   "id": "fb43be3b",
   "metadata": {},
   "outputs": [
    {
     "data": {
      "text/plain": [
       "False"
      ]
     },
     "execution_count": 4,
     "metadata": {},
     "output_type": "execute_result"
    }
   ],
   "source": [
    "a == 6"
   ]
  },
  {
   "cell_type": "markdown",
   "id": "06181a64",
   "metadata": {},
   "source": [
    "#Syntax:\n",
    "if <condition>:\n",
    "    #Do your work/ Write code"
   ]
  },
  {
   "cell_type": "code",
   "execution_count": 11,
   "id": "d1044520",
   "metadata": {},
   "outputs": [
    {
     "name": "stdout",
     "output_type": "stream",
     "text": [
      "A is equal to 5\n"
     ]
    }
   ],
   "source": [
    "if a == 5:\n",
    "    print(\"A is equal to 5\")"
   ]
  },
  {
   "cell_type": "code",
   "execution_count": 12,
   "id": "0a9893d7",
   "metadata": {},
   "outputs": [],
   "source": [
    "if a % 2 == 0:\n",
    "    print(\"Even\")"
   ]
  },
  {
   "cell_type": "code",
   "execution_count": 13,
   "id": "606e3236",
   "metadata": {},
   "outputs": [
    {
     "name": "stdout",
     "output_type": "stream",
     "text": [
      "Number is positive\n"
     ]
    }
   ],
   "source": [
    "if a > 0:\n",
    "    print(\"Number is positive\")"
   ]
  },
  {
   "cell_type": "code",
   "execution_count": 15,
   "id": "9c7863e2",
   "metadata": {},
   "outputs": [
    {
     "name": "stdout",
     "output_type": "stream",
     "text": [
      "Number is negative\n"
     ]
    }
   ],
   "source": [
    "b = -9\n",
    "if b < 0:\n",
    "    print(\"Number is negative\")"
   ]
  },
  {
   "cell_type": "markdown",
   "id": "788be535",
   "metadata": {},
   "source": [
    "If Else"
   ]
  },
  {
   "cell_type": "code",
   "execution_count": 20,
   "id": "2b7f7300",
   "metadata": {},
   "outputs": [
    {
     "name": "stdout",
     "output_type": "stream",
     "text": [
      "A is negative\n",
      "Hi Negative\n",
      "You executed conditional statement\n"
     ]
    }
   ],
   "source": [
    "a = -2\n",
    "\n",
    "if a > 0:\n",
    "    print(\"A is positive\")\n",
    "    print(\"Hello there\")\n",
    "else:\n",
    "    print(\"A is negative\")\n",
    "    print(\"Hi Negative\")\n",
    "\n",
    "print(\"You executed conditional statement\")\n"
   ]
  },
  {
   "cell_type": "markdown",
   "id": "6b7a9e8b",
   "metadata": {},
   "source": [
    "IF Elif Else"
   ]
  },
  {
   "cell_type": "code",
   "execution_count": 22,
   "id": "9778627b",
   "metadata": {},
   "outputs": [
    {
     "name": "stdout",
     "output_type": "stream",
     "text": [
      "A is negative\n"
     ]
    }
   ],
   "source": [
    "a = -4\n",
    "\n",
    "if a < 0:\n",
    "    print(\"A is negative\")\n",
    "elif a > 0:\n",
    "    print(\"A is positive\")\n",
    "else:\n",
    "    print(\"A is zero\")"
   ]
  },
  {
   "cell_type": "code",
   "execution_count": 24,
   "id": "21e47d88",
   "metadata": {},
   "outputs": [
    {
     "name": "stdout",
     "output_type": "stream",
     "text": [
      "A is positive\n"
     ]
    }
   ],
   "source": [
    "a = 7\n",
    "\n",
    "# if a > 0:\n",
    "#     print(\"A is positive\")\n",
    "# else:\n",
    "#     print(\"A is negative\")\n",
    "\n",
    "#Short hand\n",
    "print(\"A is positive\") if a > 0 else print(\"A is negative\")"
   ]
  },
  {
   "cell_type": "markdown",
   "id": "5c67f428",
   "metadata": {},
   "source": [
    "Nested Conditions"
   ]
  },
  {
   "cell_type": "code",
   "execution_count": 29,
   "id": "35a6bfd1",
   "metadata": {},
   "outputs": [
    {
     "name": "stdout",
     "output_type": "stream",
     "text": [
      "Negative number\n"
     ]
    }
   ],
   "source": [
    "# If a number is greater than 0, check if it even or odd, else if the number is equal to 0, print zero,\n",
    "# else print negative number\n",
    "\n",
    "num = -9\n",
    "\n",
    "if num > 0:\n",
    "    print(\"Number is greater than 0\")\n",
    "    if num % 2 == 0:\n",
    "        print(\"Even Number\")\n",
    "    else:\n",
    "        print(\"Odd Number\")\n",
    "elif num == 0:\n",
    "    print(\"number is Zero\")\n",
    "else:\n",
    "    print(\"Negative number\")"
   ]
  },
  {
   "cell_type": "markdown",
   "id": "b212f237",
   "metadata": {},
   "source": [
    "If Conditions and Logical Operators"
   ]
  },
  {
   "cell_type": "code",
   "execution_count": 30,
   "id": "fd41fe62",
   "metadata": {},
   "outputs": [],
   "source": [
    "a = 8"
   ]
  },
  {
   "cell_type": "code",
   "execution_count": 31,
   "id": "4a65cf72",
   "metadata": {},
   "outputs": [
    {
     "data": {
      "text/plain": [
       "True"
      ]
     },
     "execution_count": 31,
     "metadata": {},
     "output_type": "execute_result"
    }
   ],
   "source": [
    "a > 0"
   ]
  },
  {
   "cell_type": "code",
   "execution_count": 32,
   "id": "433173ba",
   "metadata": {},
   "outputs": [
    {
     "data": {
      "text/plain": [
       "True"
      ]
     },
     "execution_count": 32,
     "metadata": {},
     "output_type": "execute_result"
    }
   ],
   "source": [
    "a % 2 == 0"
   ]
  },
  {
   "cell_type": "code",
   "execution_count": 36,
   "id": "92246d89",
   "metadata": {},
   "outputs": [
    {
     "name": "stdout",
     "output_type": "stream",
     "text": [
      "number is positive and odd\n"
     ]
    }
   ],
   "source": [
    "a = 7\n",
    "if a > 0 and a % 2 == 0:\n",
    "    print(\"number is positive and even\")\n",
    "elif a > 0 and a % 2 == 1:\n",
    "    print(\"number is positive and odd\")"
   ]
  },
  {
   "cell_type": "code",
   "execution_count": 44,
   "id": "093ae758",
   "metadata": {},
   "outputs": [
    {
     "name": "stdout",
     "output_type": "stream",
     "text": [
      "Access granted\n"
     ]
    }
   ],
   "source": [
    "user = \"Vishal\"\n",
    "level = 5\n",
    "\n",
    "if user == \"admin\" or level > 3:\n",
    "    print(\"Access granted\")\n",
    "else:\n",
    "    print(\"Access Denied\")"
   ]
  },
  {
   "cell_type": "code",
   "execution_count": 45,
   "id": "05754562",
   "metadata": {},
   "outputs": [],
   "source": [
    "# Get user input using input(“Enter your age: ”). If user is 18 or older, give feedback: \n",
    "# You are old enough to drive. If below 18 give feedback to\n",
    "# wait for the missing amount of years. Output: "
   ]
  },
  {
   "cell_type": "code",
   "execution_count": 52,
   "id": "5890d8ba",
   "metadata": {},
   "outputs": [
    {
     "name": "stdout",
     "output_type": "stream",
     "text": [
      "Enter your age : 56\n",
      "You are old enough to drive\n"
     ]
    }
   ],
   "source": [
    "age = int(input(\"Enter your age : \"))\n",
    "\n",
    "if age >= 18:\n",
    "    print(\"You are old enough to drive\")\n",
    "else:\n",
    "    print(\"Wait for the missing years\")"
   ]
  },
  {
   "cell_type": "code",
   "execution_count": 53,
   "id": "80c28eef",
   "metadata": {},
   "outputs": [],
   "source": [
    "person={\n",
    "    'first_name': 'Asabeneh',\n",
    "    'last_name': 'Yetayeh',\n",
    "    'age': 250,\n",
    "    'country': 'Finland',\n",
    "    'is_marred': True,\n",
    "    'skills': ['JavaScript', 'React', 'Node', 'MongoDB', 'Python'],\n",
    "    'address': {\n",
    "        'street': 'Space street',\n",
    "        'zipcode': '02210'\n",
    "    }\n",
    "    }"
   ]
  },
  {
   "cell_type": "code",
   "execution_count": null,
   "id": "664b6851",
   "metadata": {},
   "outputs": [],
   "source": [
    "# * Check if the person dictionary has skills key, if so print out the middle skill in the skills list.\n",
    "#  * Check if the person dictionary has skills key, if so check if the person has 'Python' skill and print out the result.\n",
    "#  * If a person skills has only JavaScript and React, print('He is a front end developer'), if the person skills has Node, Python, MongoDB, print('He is a backend developer'), if the person skills has React, Node and MongoDB, Print('He is a fullstack developer'), else print('unknown title') - for more accurate results more conditions can be nested!\n",
    "#  * If the person is married and if he lives in Finland, print the information in the following format:"
   ]
  },
  {
   "cell_type": "code",
   "execution_count": 61,
   "id": "927a2015",
   "metadata": {},
   "outputs": [
    {
     "name": "stdout",
     "output_type": "stream",
     "text": [
      "Node\n"
     ]
    }
   ],
   "source": [
    "if person[\"skills\"]:\n",
    "    total_skills = len(person[\"skills\"])\n",
    "    print(person[\"skills\"][total_skills//2])"
   ]
  },
  {
   "cell_type": "code",
   "execution_count": 62,
   "id": "4d0f1385",
   "metadata": {},
   "outputs": [
    {
     "name": "stdout",
     "output_type": "stream",
     "text": [
      "Node\n"
     ]
    }
   ],
   "source": [
    "## Walrus Operator\n",
    "\n",
    "if skills := person[\"skills\"]:\n",
    "    total_skills = len(skills)\n",
    "    print(skills[total_skills//2])"
   ]
  },
  {
   "cell_type": "code",
   "execution_count": 63,
   "id": "8ba5ee31",
   "metadata": {},
   "outputs": [
    {
     "name": "stdout",
     "output_type": "stream",
     "text": [
      "Node\n"
     ]
    }
   ],
   "source": [
    "if skills := person[\"skills\"]:\n",
    "    print(skills[len(skills) // 2])"
   ]
  },
  {
   "cell_type": "code",
   "execution_count": 65,
   "id": "d1d5a2fb",
   "metadata": {},
   "outputs": [],
   "source": [
    "if children := person.get(\"child\"):\n",
    "        print(\"Person has children\")"
   ]
  },
  {
   "cell_type": "code",
   "execution_count": 60,
   "id": "f913fa40",
   "metadata": {},
   "outputs": [
    {
     "data": {
      "text/plain": [
       "2"
      ]
     },
     "execution_count": 60,
     "metadata": {},
     "output_type": "execute_result"
    }
   ],
   "source": [
    "skills = ['JavaScript', 'React', 'Node', 'MongoDB', 'Python']\n",
    "len(skills)//2"
   ]
  },
  {
   "cell_type": "code",
   "execution_count": null,
   "id": "a69f5357",
   "metadata": {},
   "outputs": [],
   "source": []
  }
 ],
 "metadata": {
  "kernelspec": {
   "display_name": "Python 3 (ipykernel)",
   "language": "python",
   "name": "python3"
  },
  "language_info": {
   "codemirror_mode": {
    "name": "ipython",
    "version": 3
   },
   "file_extension": ".py",
   "mimetype": "text/x-python",
   "name": "python",
   "nbconvert_exporter": "python",
   "pygments_lexer": "ipython3",
   "version": "3.10.5"
  }
 },
 "nbformat": 4,
 "nbformat_minor": 5
}
