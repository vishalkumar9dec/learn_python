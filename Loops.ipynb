{
 "cells": [
  {
   "cell_type": "code",
   "execution_count": null,
   "id": "4b1e4142",
   "metadata": {},
   "outputs": [],
   "source": [
    "## Loops --> To handle repetitive tasks\n",
    "'''\n",
    "    Loops:\n",
    "        1. While\n",
    "            #Syntax:\n",
    "                while condition:\n",
    "                    write your code\n",
    "        \n",
    "        2. For\n",
    "            #Syntax:\n",
    "                for iterator in <list/tuple/dict/set/string>:\n",
    "                    write your code\n",
    "'''"
   ]
  },
  {
   "cell_type": "code",
   "execution_count": null,
   "id": "072233ba",
   "metadata": {},
   "outputs": [],
   "source": [
    "count = 0\n",
    "while count < 5:\n",
    "    print(\"Count is less than 5 \", count)\n",
    "    count = count + 1 # checkpoint to make the condition false"
   ]
  },
  {
   "cell_type": "code",
   "execution_count": null,
   "id": "4dd87a83",
   "metadata": {},
   "outputs": [],
   "source": [
    "count = 0\n",
    "while count < 5:\n",
    "    print(\"Count is less than 5 \", count)\n",
    "    count += 1"
   ]
  },
  {
   "cell_type": "markdown",
   "id": "5c430b60",
   "metadata": {},
   "source": [
    "'''\n",
    "while condition:\n",
    "    write your code\n",
    "else:\n",
    "    write your code\n",
    "'''"
   ]
  },
  {
   "cell_type": "code",
   "execution_count": null,
   "id": "7e02ffc2",
   "metadata": {},
   "outputs": [],
   "source": [
    "count = 0\n",
    "while count < 5:\n",
    "    print(\"Count is less than 5 \", count)\n",
    "    count += 1\n",
    "else:\n",
    "    print(\"Count is greater than 5 \", count)"
   ]
  },
  {
   "cell_type": "code",
   "execution_count": null,
   "id": "36582830",
   "metadata": {},
   "outputs": [],
   "source": [
    "'''\n",
    "Break\n",
    "\n",
    "while condition:\n",
    "    write your code\n",
    "    if another_condition:\n",
    "        break\n",
    "\n",
    "\n",
    "Continue --> Skip the current iteration and continue with the next\n",
    "\n",
    "while condition:\n",
    "    write your code\n",
    "    if another_condition:\n",
    "        continue\n",
    "\n",
    "'''"
   ]
  },
  {
   "cell_type": "code",
   "execution_count": null,
   "id": "89b1525b",
   "metadata": {},
   "outputs": [],
   "source": [
    "count = 0\n",
    "while count < 5:\n",
    "    print(\"Count is less than 5 \", count)\n",
    "    count += 1\n",
    "    if count == 3:\n",
    "        break"
   ]
  },
  {
   "cell_type": "code",
   "execution_count": 5,
   "id": "b92a2151",
   "metadata": {},
   "outputs": [
    {
     "name": "stdout",
     "output_type": "stream",
     "text": [
      "Count is less than 5  1\n",
      "Count is less than 5  3\n",
      "Count is less than 5  4\n",
      "Count is less than 5  5\n"
     ]
    }
   ],
   "source": [
    "count = 0\n",
    "while count < 5:\n",
    "#     print(count)\n",
    "    count += 1\n",
    "    if count == 2:\n",
    "        continue\n",
    "    print(\"Count is less than 5 \", count)"
   ]
  },
  {
   "cell_type": "code",
   "execution_count": null,
   "id": "d0292d97",
   "metadata": {},
   "outputs": [],
   "source": [
    "'''\n",
    "FOR LOOP\n",
    "'''"
   ]
  },
  {
   "cell_type": "code",
   "execution_count": 6,
   "id": "8d6d2728",
   "metadata": {},
   "outputs": [
    {
     "name": "stdout",
     "output_type": "stream",
     "text": [
      "1\n",
      "4\n",
      "5\n",
      "hello\n",
      "there\n",
      "100\n"
     ]
    }
   ],
   "source": [
    "my_list = [1, 4, 5, \"hello\", \"there\", 100]\n",
    "\n",
    "for element in my_list:\n",
    "    print(element)"
   ]
  },
  {
   "cell_type": "code",
   "execution_count": 7,
   "id": "777d3dd9",
   "metadata": {},
   "outputs": [
    {
     "name": "stdout",
     "output_type": "stream",
     "text": [
      "P\n",
      "y\n",
      "t\n",
      "h\n",
      "o\n",
      "n\n"
     ]
    }
   ],
   "source": [
    "my_string = \"Python\"\n",
    "\n",
    "for char in my_string:\n",
    "    print(char)"
   ]
  },
  {
   "cell_type": "code",
   "execution_count": 9,
   "id": "9e4d1a0d",
   "metadata": {},
   "outputs": [
    {
     "name": "stdout",
     "output_type": "stream",
     "text": [
      "0\n",
      "1\n",
      "2\n",
      "3\n",
      "4\n",
      "5\n"
     ]
    }
   ],
   "source": [
    "numbers = (0, 1, 2, 3, 4, 5)\n",
    "\n",
    "for num in numbers:\n",
    "    print(num)"
   ]
  },
  {
   "cell_type": "code",
   "execution_count": 10,
   "id": "d59a6ca9",
   "metadata": {},
   "outputs": [],
   "source": [
    "person = {\n",
    "    'first_name':'Asabeneh',\n",
    "    'last_name':'Yetayeh',\n",
    "    'age':250,\n",
    "    'country':'Finland',\n",
    "    'is_marred':True,\n",
    "    'skills':['JavaScript', 'React', 'Node', 'MongoDB', 'Python'],\n",
    "    'address':{\n",
    "        'street':'Space street',\n",
    "        'zipcode':'02210'\n",
    "    }\n",
    "}"
   ]
  },
  {
   "cell_type": "code",
   "execution_count": 11,
   "id": "4315fecc",
   "metadata": {},
   "outputs": [
    {
     "name": "stdout",
     "output_type": "stream",
     "text": [
      "first_name\n",
      "last_name\n",
      "age\n",
      "country\n",
      "is_marred\n",
      "skills\n",
      "address\n"
     ]
    }
   ],
   "source": [
    "for key in person:\n",
    "    print(key)"
   ]
  },
  {
   "cell_type": "code",
   "execution_count": 12,
   "id": "6d56b115",
   "metadata": {},
   "outputs": [
    {
     "name": "stdout",
     "output_type": "stream",
     "text": [
      "first_name Asabeneh\n",
      "last_name Yetayeh\n",
      "age 250\n",
      "country Finland\n",
      "is_marred True\n",
      "skills ['JavaScript', 'React', 'Node', 'MongoDB', 'Python']\n",
      "address {'street': 'Space street', 'zipcode': '02210'}\n"
     ]
    }
   ],
   "source": [
    "for key, value in person.items():\n",
    "    print(key, value)"
   ]
  },
  {
   "cell_type": "code",
   "execution_count": 13,
   "id": "2c294155",
   "metadata": {},
   "outputs": [],
   "source": [
    "## TO DO :: Break and Continue in For loop"
   ]
  },
  {
   "cell_type": "code",
   "execution_count": 14,
   "id": "290a0bae",
   "metadata": {},
   "outputs": [
    {
     "data": {
      "text/plain": [
       "[0, 1, 2, 3, 4, 5, 6, 7, 8, 9, 10]"
      ]
     },
     "execution_count": 14,
     "metadata": {},
     "output_type": "execute_result"
    }
   ],
   "source": [
    "## Range Functions\n",
    "\n",
    "# range(start, end, stop)\n",
    "\n",
    "lst = list(range(11))\n",
    "lst"
   ]
  },
  {
   "cell_type": "code",
   "execution_count": 15,
   "id": "990df4c7",
   "metadata": {},
   "outputs": [
    {
     "data": {
      "text/plain": [
       "range(0, 11)"
      ]
     },
     "execution_count": 15,
     "metadata": {},
     "output_type": "execute_result"
    }
   ],
   "source": [
    "range(11)"
   ]
  },
  {
   "cell_type": "code",
   "execution_count": 17,
   "id": "bb748f3f",
   "metadata": {},
   "outputs": [
    {
     "name": "stdout",
     "output_type": "stream",
     "text": [
      "INdex ::  0\n",
      "1\n",
      "INdex ::  1\n",
      "4\n",
      "INdex ::  2\n",
      "5\n",
      "INdex ::  3\n",
      "hello\n",
      "INdex ::  4\n",
      "there\n",
      "INdex ::  5\n",
      "100\n"
     ]
    }
   ],
   "source": [
    "for index in range(len(my_list)):\n",
    "    print(\"INdex :: \", index)\n",
    "    print(my_list[index])"
   ]
  },
  {
   "cell_type": "code",
   "execution_count": null,
   "id": "edf805ef",
   "metadata": {},
   "outputs": [],
   "source": [
    "## TO DO:  For else"
   ]
  }
 ],
 "metadata": {
  "kernelspec": {
   "display_name": "Python 3 (ipykernel)",
   "language": "python",
   "name": "python3"
  },
  "language_info": {
   "codemirror_mode": {
    "name": "ipython",
    "version": 3
   },
   "file_extension": ".py",
   "mimetype": "text/x-python",
   "name": "python",
   "nbconvert_exporter": "python",
   "pygments_lexer": "ipython3",
   "version": "3.10.5"
  }
 },
 "nbformat": 4,
 "nbformat_minor": 5
}
