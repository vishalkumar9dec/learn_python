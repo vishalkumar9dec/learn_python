{
 "cells": [
  {
   "cell_type": "markdown",
   "id": "7656c8d5",
   "metadata": {},
   "source": [
    "# Exception Handling\n",
    "\n",
    "try:\n",
    "    code where exception can occur\n",
    "except:\n",
    "    execute the code when exception occurs\n",
    "else:\n",
    "    Execute this code when no exception occurs\n",
    "finally:\n",
    "    Always execute this code"
   ]
  },
  {
   "cell_type": "code",
   "execution_count": 21,
   "id": "f758f45d",
   "metadata": {},
   "outputs": [],
   "source": [
    "# v0.0.1\n",
    "def calculator(num1, num2, operation):\n",
    "    result = None\n",
    "    if operation == \"sum\":\n",
    "        result = num1 + num2\n",
    "    elif operation == \"subtract\":\n",
    "        result = num1 - num2\n",
    "\n",
    "    return result"
   ]
  },
  {
   "cell_type": "code",
   "execution_count": 19,
   "id": "da594c15",
   "metadata": {},
   "outputs": [
    {
     "data": {
      "text/plain": [
       "46"
      ]
     },
     "execution_count": 19,
     "metadata": {},
     "output_type": "execute_result"
    }
   ],
   "source": [
    "calculator(12, 34, \"sum\")"
   ]
  },
  {
   "cell_type": "code",
   "execution_count": 16,
   "id": "19638dcd",
   "metadata": {},
   "outputs": [
    {
     "data": {
      "text/plain": [
       "-22"
      ]
     },
     "execution_count": 16,
     "metadata": {},
     "output_type": "execute_result"
    }
   ],
   "source": [
    "calculator(12, 34, \"subtract\")"
   ]
  },
  {
   "cell_type": "code",
   "execution_count": 17,
   "id": "113f5da0",
   "metadata": {},
   "outputs": [
    {
     "ename": "TypeError",
     "evalue": "unsupported operand type(s) for -: 'int' and 'str'",
     "output_type": "error",
     "traceback": [
      "\u001b[0;31m---------------------------------------------------------------------------\u001b[0m",
      "\u001b[0;31mTypeError\u001b[0m                                 Traceback (most recent call last)",
      "Cell \u001b[0;32mIn [17], line 1\u001b[0m\n\u001b[0;32m----> 1\u001b[0m \u001b[43mcalculator\u001b[49m\u001b[43m(\u001b[49m\u001b[38;5;241;43m12\u001b[39;49m\u001b[43m,\u001b[49m\u001b[43m \u001b[49m\u001b[38;5;124;43m\"\u001b[39;49m\u001b[38;5;124;43m34\u001b[39;49m\u001b[38;5;124;43m\"\u001b[39;49m\u001b[43m,\u001b[49m\u001b[43m \u001b[49m\u001b[38;5;124;43m\"\u001b[39;49m\u001b[38;5;124;43msubtract\u001b[39;49m\u001b[38;5;124;43m\"\u001b[39;49m\u001b[43m)\u001b[49m\n",
      "Cell \u001b[0;32mIn [14], line 6\u001b[0m, in \u001b[0;36mcalculator\u001b[0;34m(num1, num2, operation)\u001b[0m\n\u001b[1;32m      4\u001b[0m     result \u001b[38;5;241m=\u001b[39m num1 \u001b[38;5;241m+\u001b[39m num2\n\u001b[1;32m      5\u001b[0m \u001b[38;5;28;01melif\u001b[39;00m operation \u001b[38;5;241m==\u001b[39m \u001b[38;5;124m\"\u001b[39m\u001b[38;5;124msubtract\u001b[39m\u001b[38;5;124m\"\u001b[39m:\n\u001b[0;32m----> 6\u001b[0m     result \u001b[38;5;241m=\u001b[39m \u001b[43mnum1\u001b[49m\u001b[43m \u001b[49m\u001b[38;5;241;43m-\u001b[39;49m\u001b[43m \u001b[49m\u001b[43mnum2\u001b[49m\n\u001b[1;32m      8\u001b[0m \u001b[38;5;28;01mreturn\u001b[39;00m result\n",
      "\u001b[0;31mTypeError\u001b[0m: unsupported operand type(s) for -: 'int' and 'str'"
     ]
    }
   ],
   "source": [
    "calculator(12, \"34\", \"subtract\")"
   ]
  },
  {
   "cell_type": "code",
   "execution_count": 27,
   "id": "d9c6b6fe",
   "metadata": {},
   "outputs": [],
   "source": [
    "# v 0.0.2\n",
    "def calculator(num1, num2, operation):\n",
    "    result = None\n",
    "    try:\n",
    "        if operation == \"sum\":\n",
    "            result = num1 + num2\n",
    "        elif operation == \"subtract\":\n",
    "            result = num1 - num2\n",
    "    except TypeError as e:\n",
    "        result = \"Oops! Some Error occurred. Hint: Please pass correct arguments\"\n",
    "    \n",
    "    return result"
   ]
  },
  {
   "cell_type": "code",
   "execution_count": 23,
   "id": "19f9556d",
   "metadata": {},
   "outputs": [
    {
     "data": {
      "text/plain": [
       "'Oops! Some Error occurred. Hint: Please pass correct arguments'"
      ]
     },
     "execution_count": 23,
     "metadata": {},
     "output_type": "execute_result"
    }
   ],
   "source": [
    "calculator(12, \"34\", \"subtract\")"
   ]
  },
  {
   "cell_type": "code",
   "execution_count": 28,
   "id": "fd486748",
   "metadata": {},
   "outputs": [],
   "source": [
    "calculator(12, \"34\", \"subtrt\")"
   ]
  },
  {
   "cell_type": "code",
   "execution_count": 29,
   "id": "c9f864c7",
   "metadata": {},
   "outputs": [],
   "source": [
    "# v 0.0.2\n",
    "def calculator(num1, num2, operation):\n",
    "    result = \"Unsupported operation.\"\n",
    "    try:\n",
    "        if operation == \"sum\":\n",
    "            result = num1 + num2\n",
    "        elif operation == \"subtract\":\n",
    "            result = num1 - num2\n",
    "    except TypeError as e:\n",
    "        result = \"Oops! Some Error occurred. Hint: Please pass correct arguments\"\n",
    "    \n",
    "    return result"
   ]
  },
  {
   "cell_type": "code",
   "execution_count": 30,
   "id": "d6952212",
   "metadata": {},
   "outputs": [
    {
     "data": {
      "text/plain": [
       "'Unsupported operation.'"
      ]
     },
     "execution_count": 30,
     "metadata": {},
     "output_type": "execute_result"
    }
   ],
   "source": [
    "calculator(12, \"34\", \"subtrt\")"
   ]
  },
  {
   "cell_type": "code",
   "execution_count": 31,
   "id": "68cc8897",
   "metadata": {},
   "outputs": [],
   "source": [
    "# v 0.0.3\n",
    "def calculator(num1, num2, operation):\n",
    "    result = \"Unsupported operation.\"\n",
    "    try:\n",
    "        if operation == \"sum\":\n",
    "            result = num1 + num2\n",
    "        elif operation == \"subtract\":\n",
    "            result = num1 - num2\n",
    "        elif operation == \"divide\":\n",
    "            result = num1 / num2\n",
    "    except TypeError as e:\n",
    "        result = \"Oops! Some Error occurred. Hint: Please pass correct arguments\"\n",
    "    \n",
    "    return result"
   ]
  },
  {
   "cell_type": "code",
   "execution_count": 32,
   "id": "5040aaf1",
   "metadata": {},
   "outputs": [
    {
     "data": {
      "text/plain": [
       "0.35294117647058826"
      ]
     },
     "execution_count": 32,
     "metadata": {},
     "output_type": "execute_result"
    }
   ],
   "source": [
    "calculator(12, 34, \"divide\")"
   ]
  },
  {
   "cell_type": "code",
   "execution_count": 33,
   "id": "6451aa74",
   "metadata": {},
   "outputs": [
    {
     "ename": "ZeroDivisionError",
     "evalue": "division by zero",
     "output_type": "error",
     "traceback": [
      "\u001b[0;31m---------------------------------------------------------------------------\u001b[0m",
      "\u001b[0;31mZeroDivisionError\u001b[0m                         Traceback (most recent call last)",
      "Cell \u001b[0;32mIn [33], line 1\u001b[0m\n\u001b[0;32m----> 1\u001b[0m \u001b[43mcalculator\u001b[49m\u001b[43m(\u001b[49m\u001b[38;5;241;43m12\u001b[39;49m\u001b[43m,\u001b[49m\u001b[43m \u001b[49m\u001b[38;5;241;43m0\u001b[39;49m\u001b[43m,\u001b[49m\u001b[43m \u001b[49m\u001b[38;5;124;43m\"\u001b[39;49m\u001b[38;5;124;43mdivide\u001b[39;49m\u001b[38;5;124;43m\"\u001b[39;49m\u001b[43m)\u001b[49m\n",
      "Cell \u001b[0;32mIn [31], line 10\u001b[0m, in \u001b[0;36mcalculator\u001b[0;34m(num1, num2, operation)\u001b[0m\n\u001b[1;32m      8\u001b[0m         result \u001b[38;5;241m=\u001b[39m num1 \u001b[38;5;241m-\u001b[39m num2\n\u001b[1;32m      9\u001b[0m     \u001b[38;5;28;01melif\u001b[39;00m operation \u001b[38;5;241m==\u001b[39m \u001b[38;5;124m\"\u001b[39m\u001b[38;5;124mdivide\u001b[39m\u001b[38;5;124m\"\u001b[39m:\n\u001b[0;32m---> 10\u001b[0m         result \u001b[38;5;241m=\u001b[39m \u001b[43mnum1\u001b[49m\u001b[43m \u001b[49m\u001b[38;5;241;43m/\u001b[39;49m\u001b[43m \u001b[49m\u001b[43mnum2\u001b[49m\n\u001b[1;32m     11\u001b[0m \u001b[38;5;28;01mexcept\u001b[39;00m \u001b[38;5;167;01mTypeError\u001b[39;00m \u001b[38;5;28;01mas\u001b[39;00m e:\n\u001b[1;32m     12\u001b[0m     result \u001b[38;5;241m=\u001b[39m \u001b[38;5;124m\"\u001b[39m\u001b[38;5;124mOops! Some Error occurred. Hint: Please pass correct arguments\u001b[39m\u001b[38;5;124m\"\u001b[39m\n",
      "\u001b[0;31mZeroDivisionError\u001b[0m: division by zero"
     ]
    }
   ],
   "source": [
    "calculator(12, 0, \"divide\")"
   ]
  },
  {
   "cell_type": "code",
   "execution_count": 34,
   "id": "4ab8f2c0",
   "metadata": {},
   "outputs": [],
   "source": [
    "# v 0.0.4\n",
    "def calculator(num1, num2, operation):\n",
    "    result = \"Unsupported operation.\"\n",
    "    try:\n",
    "        if operation == \"sum\":\n",
    "            result = num1 + num2\n",
    "        elif operation == \"subtract\":\n",
    "            result = num1 - num2\n",
    "        elif operation == \"divide\":\n",
    "            try:\n",
    "                result = num1 / num2\n",
    "            except ZeroDivisionError:\n",
    "                result = \"Oops! Some Error occurred. Hint: You are dividing by 0(zero)\"\n",
    "    except TypeError as e:\n",
    "        result = \"Oops! Some Error occurred. Hint: Please pass correct arguments\"\n",
    "    \n",
    "    return result"
   ]
  },
  {
   "cell_type": "code",
   "execution_count": 35,
   "id": "5091de18",
   "metadata": {},
   "outputs": [
    {
     "data": {
      "text/plain": [
       "'Oops! Some Error occurred. Hint: You are dividing by 0(zero)'"
      ]
     },
     "execution_count": 35,
     "metadata": {},
     "output_type": "execute_result"
    }
   ],
   "source": [
    "calculator(12, 0, \"divide\")"
   ]
  },
  {
   "cell_type": "code",
   "execution_count": 36,
   "id": "06e0602e",
   "metadata": {},
   "outputs": [
    {
     "data": {
      "text/plain": [
       "'Oops! Some Error occurred. Hint: Please pass correct arguments'"
      ]
     },
     "execution_count": 36,
     "metadata": {},
     "output_type": "execute_result"
    }
   ],
   "source": [
    "calculator(12, \"0\", \"divide\")"
   ]
  },
  {
   "cell_type": "code",
   "execution_count": null,
   "id": "eaf9e5f2",
   "metadata": {},
   "outputs": [],
   "source": []
  }
 ],
 "metadata": {
  "kernelspec": {
   "display_name": "Python 3 (ipykernel)",
   "language": "python",
   "name": "python3"
  },
  "language_info": {
   "codemirror_mode": {
    "name": "ipython",
    "version": 3
   },
   "file_extension": ".py",
   "mimetype": "text/x-python",
   "name": "python",
   "nbconvert_exporter": "python",
   "pygments_lexer": "ipython3",
   "version": "3.10.5"
  }
 },
 "nbformat": 4,
 "nbformat_minor": 5
}
