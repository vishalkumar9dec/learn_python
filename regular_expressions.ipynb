{
 "cells": [
  {
   "cell_type": "markdown",
   "id": "9f5cc45a",
   "metadata": {},
   "source": [
    "# Regex - \"re\" module\n",
    "\n",
    "re.match(): searches only in the beginning of the first line of the string and returns matched objects if found,   else returns None.\n",
    "re.search: Returns a match object if there is one anywhere in the string, including multiline strings.\n",
    "re.findall: Returns a list containing all matches\n",
    "re.split: Takes a string, splits it at the match points, returns a list\n",
    "re.sub: Replaces one or many matches within a string\n",
    "\n",
    "\n",
    "# Syntax\n",
    "re.match(<pattern>, source_string,)"
   ]
  },
  {
   "cell_type": "code",
   "execution_count": 1,
   "id": "8bc92926",
   "metadata": {},
   "outputs": [],
   "source": [
    "import re\n",
    "\n",
    "\n",
    "txt = 'I love to teach python and javaScript'"
   ]
  },
  {
   "cell_type": "code",
   "execution_count": 2,
   "id": "c1edd142",
   "metadata": {},
   "outputs": [
    {
     "data": {
      "text/plain": [
       "<re.Match object; span=(0, 9), match='I love to'>"
      ]
     },
     "execution_count": 2,
     "metadata": {},
     "output_type": "execute_result"
    }
   ],
   "source": [
    "re.match('I love to', txt)"
   ]
  },
  {
   "cell_type": "code",
   "execution_count": 3,
   "id": "254bcbdf",
   "metadata": {},
   "outputs": [
    {
     "data": {
      "text/plain": [
       "<re.Match object; span=(0, 9), match='I love to'>"
      ]
     },
     "execution_count": 3,
     "metadata": {},
     "output_type": "execute_result"
    }
   ],
   "source": [
    "match = re.match('I love to', txt)\n",
    "match"
   ]
  },
  {
   "cell_type": "code",
   "execution_count": 4,
   "id": "1d211de3",
   "metadata": {},
   "outputs": [
    {
     "data": {
      "text/plain": [
       "(0, 9)"
      ]
     },
     "execution_count": 4,
     "metadata": {},
     "output_type": "execute_result"
    }
   ],
   "source": [
    "match.span()"
   ]
  },
  {
   "cell_type": "code",
   "execution_count": 5,
   "id": "ce3a1f0d",
   "metadata": {},
   "outputs": [
    {
     "name": "stdout",
     "output_type": "stream",
     "text": [
      "0\n",
      "9\n"
     ]
    }
   ],
   "source": [
    "start, end = match.span()\n",
    "print(start)\n",
    "print(end)"
   ]
  },
  {
   "cell_type": "code",
   "execution_count": 7,
   "id": "50f79d67",
   "metadata": {},
   "outputs": [
    {
     "data": {
      "text/plain": [
       "'I love to'"
      ]
     },
     "execution_count": 7,
     "metadata": {},
     "output_type": "execute_result"
    }
   ],
   "source": [
    "txt[start:end]"
   ]
  },
  {
   "cell_type": "code",
   "execution_count": 9,
   "id": "43b249cf",
   "metadata": {},
   "outputs": [
    {
     "data": {
      "text/plain": [
       "<re.Match object; span=(0, 6), match='I love'>"
      ]
     },
     "execution_count": 9,
     "metadata": {},
     "output_type": "execute_result"
    }
   ],
   "source": [
    "re.match('I love', txt)"
   ]
  },
  {
   "cell_type": "code",
   "execution_count": 10,
   "id": "6987b3fa",
   "metadata": {},
   "outputs": [
    {
     "data": {
      "text/plain": [
       "<re.Match object; span=(0, 9), match='I love to'>"
      ]
     },
     "execution_count": 10,
     "metadata": {},
     "output_type": "execute_result"
    }
   ],
   "source": [
    "re.match('i love to', txt, re.I) #--> Ignore case"
   ]
  },
  {
   "cell_type": "code",
   "execution_count": 11,
   "id": "1a21dd7e",
   "metadata": {},
   "outputs": [
    {
     "data": {
      "text/plain": [
       "<re.Match object; span=(0, 9), match='I love to'>"
      ]
     },
     "execution_count": 11,
     "metadata": {},
     "output_type": "execute_result"
    }
   ],
   "source": [
    "re.match('i LOVE to', txt, re.I)"
   ]
  },
  {
   "cell_type": "code",
   "execution_count": 12,
   "id": "018a6ceb",
   "metadata": {},
   "outputs": [
    {
     "data": {
      "text/plain": [
       "['python']"
      ]
     },
     "execution_count": 12,
     "metadata": {},
     "output_type": "execute_result"
    }
   ],
   "source": [
    "txt = '''Python is the most beautiful language that a human being has ever created.\n",
    "I recommend python for a first programming language'''\n",
    "\n",
    "matches = re.findall('python', txt)\n",
    "\n",
    "matches\n"
   ]
  },
  {
   "cell_type": "code",
   "execution_count": 13,
   "id": "8b40e549",
   "metadata": {},
   "outputs": [
    {
     "data": {
      "text/plain": [
       "['Python', 'python']"
      ]
     },
     "execution_count": 13,
     "metadata": {},
     "output_type": "execute_result"
    }
   ],
   "source": [
    "matches = re.findall('python', txt, re.I)\n",
    "\n",
    "matches"
   ]
  },
  {
   "cell_type": "code",
   "execution_count": 14,
   "id": "491b4fa1",
   "metadata": {},
   "outputs": [
    {
     "data": {
      "text/plain": [
       "['Python', 'python']"
      ]
     },
     "execution_count": 14,
     "metadata": {},
     "output_type": "execute_result"
    }
   ],
   "source": [
    "matches = re.findall('[Pp]ython', txt)\n",
    "\n",
    "matches"
   ]
  },
  {
   "cell_type": "code",
   "execution_count": 15,
   "id": "f3e259c6",
   "metadata": {},
   "outputs": [
    {
     "data": {
      "text/plain": [
       "'Javascript is the most beautiful language that a human being has ever created.\\nI recommend Javascript for a first programming language'"
      ]
     },
     "execution_count": 15,
     "metadata": {},
     "output_type": "execute_result"
    }
   ],
   "source": [
    "matches_replaced = re.sub('[Pp]ython', 'Javascript', txt)\n",
    "matches_replaced"
   ]
  },
  {
   "cell_type": "code",
   "execution_count": 16,
   "id": "4e07941f",
   "metadata": {},
   "outputs": [
    {
     "name": "stdout",
     "output_type": "stream",
     "text": [
      "I am teacher and  I love teaching. \n",
      "There is nothing as rewarding as educating and empowering people.\n",
      "I found teaching more interesting than any other jobs. \n",
      "Does this motivate you to be a teacher?\n"
     ]
    }
   ],
   "source": [
    "txt = '''%I a%m te%%a%%che%r% a%n%d %% I l%o%ve te%ach%ing. \n",
    "T%he%re i%s n%o%th%ing as r%ewarding a%s e%duc%at%i%ng a%n%d e%m%p%ow%er%ing p%e%o%ple.\n",
    "I fo%und te%a%ching m%ore i%n%t%er%%es%ting t%h%an any other %jobs. \n",
    "D%o%es thi%s m%ot%iv%a%te %y%o%u to b%e a t%e%a%cher?'''\n",
    "\n",
    "matches = re.sub(\"%\", \"\", txt)\n",
    "print(matches)\n"
   ]
  },
  {
   "cell_type": "code",
   "execution_count": 17,
   "id": "fcc5068f",
   "metadata": {},
   "outputs": [
    {
     "data": {
      "text/plain": [
       "['apple']"
      ]
     },
     "execution_count": 17,
     "metadata": {},
     "output_type": "execute_result"
    }
   ],
   "source": [
    "pattern = r'apple'\n",
    "txt = 'Apple and banana are fruits. An old cliche says an apple a day a doctor way has been replaced by a banana a day keeps the doctor far far away. '\n",
    "\n",
    "re.findall(pattern, txt)"
   ]
  },
  {
   "cell_type": "code",
   "execution_count": 18,
   "id": "0c267f32",
   "metadata": {},
   "outputs": [
    {
     "data": {
      "text/plain": [
       "['Apple', 'apple']"
      ]
     },
     "execution_count": 18,
     "metadata": {},
     "output_type": "execute_result"
    }
   ],
   "source": [
    "pattern = r'[Aa]pple'\n",
    "txt = 'Apple and banana are fruits. An old cliche says an apple a day a doctor way has been replaced by a banana a day keeps the doctor far far away. '\n",
    "\n",
    "re.findall(pattern, txt)"
   ]
  },
  {
   "cell_type": "markdown",
   "id": "653f84c5",
   "metadata": {},
   "source": [
    "[]: A set of characters\n",
    "[a-c] means, a or b or c\n",
    "[a-z] means, any letter from a to z\n",
    "[A-Z] means, any character from A to Z\n",
    "[0-3] means, 0 or 1 or 2 or 3\n",
    "[0-9] means any number from 0 to 9\n",
    "[A-Za-z0-9] any single character, that is a to z, A to Z or 0 to 9"
   ]
  },
  {
   "cell_type": "code",
   "execution_count": 19,
   "id": "806e114f",
   "metadata": {},
   "outputs": [],
   "source": [
    "my_string = \"HelloThere124\""
   ]
  },
  {
   "cell_type": "code",
   "execution_count": 20,
   "id": "2a32dad0",
   "metadata": {},
   "outputs": [
    {
     "data": {
      "text/plain": [
       "['H', 'e', 'l', 'l', 'o', 'T', 'h', 'e', 'r', 'e', '1', '2', '4']"
      ]
     },
     "execution_count": 20,
     "metadata": {},
     "output_type": "execute_result"
    }
   ],
   "source": [
    "re.findall(\"[A-Za-z0-9]\", my_string)"
   ]
  },
  {
   "cell_type": "code",
   "execution_count": 21,
   "id": "53d67c9a",
   "metadata": {},
   "outputs": [
    {
     "data": {
      "text/plain": [
       "['H', 'e', 'l', 'l', 'o', 'T', 'h', 'e', 'r', 'e']"
      ]
     },
     "execution_count": 21,
     "metadata": {},
     "output_type": "execute_result"
    }
   ],
   "source": [
    "re.findall(\"[A-Za-z]\", my_string)"
   ]
  },
  {
   "cell_type": "code",
   "execution_count": null,
   "id": "ada7143d",
   "metadata": {},
   "outputs": [],
   "source": []
  }
 ],
 "metadata": {
  "kernelspec": {
   "display_name": "Python 3 (ipykernel)",
   "language": "python",
   "name": "python3"
  },
  "language_info": {
   "codemirror_mode": {
    "name": "ipython",
    "version": 3
   },
   "file_extension": ".py",
   "mimetype": "text/x-python",
   "name": "python",
   "nbconvert_exporter": "python",
   "pygments_lexer": "ipython3",
   "version": "3.10.5"
  }
 },
 "nbformat": 4,
 "nbformat_minor": 5
}
